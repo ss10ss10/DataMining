{
  "cells": [
    {
      "cell_type": "markdown",
      "id": "1f2d58a9",
      "metadata": {
        "id": "1f2d58a9"
      },
      "source": [
        "# Instructions"
      ]
    },
    {
      "cell_type": "markdown",
      "id": "a842532f",
      "metadata": {
        "id": "a842532f"
      },
      "source": [
        "For this assignment, you will need the following libraries but feel free to use any other library.\n",
        "* scikit-learn\n",
        "* mlxtend\n",
        "* matplotlib\n",
        "* numpy\n",
        "* tensorflow\n",
        "\n",
        "**Write your roll number below, which will be used as a random seed value in the code so that each student's results are different.**"
      ]
    },
    {
      "cell_type": "code",
      "source": [
        "from google.colab import drive\n",
        "drive.mount('/content/drive/')"
      ],
      "metadata": {
        "id": "sbK0CJA88zKl",
        "colab": {
          "base_uri": "https://localhost:8080/"
        },
        "outputId": "52c58efb-aa68-4f65-cff8-c6a258c1ab8b"
      },
      "id": "sbK0CJA88zKl",
      "execution_count": 1,
      "outputs": [
        {
          "output_type": "stream",
          "name": "stdout",
          "text": [
            "Mounted at /content/drive/\n"
          ]
        }
      ]
    },
    {
      "cell_type": "code",
      "execution_count": 2,
      "id": "c93f835b",
      "metadata": {
        "id": "c93f835b"
      },
      "outputs": [],
      "source": [
        "import sklearn\n",
        "import numpy as np\n",
        "import matplotlib.pyplot as plt\n",
        "from tensorflow.keras.models import *\n",
        "from tensorflow.keras.layers import *\n",
        "from tensorflow.keras.losses import *\n",
        "from tensorflow.keras.optimizers import *\n",
        "from tensorflow.keras import regularizers\n",
        "from tensorflow.keras.utils import to_categorical\n",
        "from sklearn.metrics import accuracy_score, classification_report\n",
        "from sklearn.metrics import confusion_matrix, ConfusionMatrixDisplay\n",
        "from tensorflow.keras.callbacks import ModelCheckpoint, EarlyStopping\n",
        "from sklearn.metrics import accuracy_score, precision_recall_fscore_support\n",
        "\n"
      ]
    },
    {
      "cell_type": "code",
      "execution_count": 3,
      "id": "dbd8f751",
      "metadata": {
        "id": "dbd8f751"
      },
      "outputs": [],
      "source": [
        "roll_number = 231453415"
      ]
    },
    {
      "cell_type": "code",
      "source": [
        "# File Paths\n",
        "weights = '/content/drive/MyDrive/University/Data Mining/Assignment 2/weights.h5'\n",
        "best_weights = '/content/drive/MyDrive/University/Data Mining/Assignment 2/best_weights.h5'\n",
        "weightsCNN = '/content/drive/MyDrive/University/Data Mining/Assignment 2/weightsCNN.h5'\n",
        "best_weightsCNN = '/content/drive/MyDrive/University/Data Mining/Assignment 2/best_weights_CNN.h5'\n",
        "weightsNorm = '/content/drive/MyDrive/University/Data Mining/Assignment 2/weightsNorm.h5'\n",
        "best_weightsNorm = '/content/drive/MyDrive/University/Data Mining/Assignment 2/best_weightsNorm.h5'\n",
        "weightsCNN_Norm = '/content/drive/MyDrive/University/Data Mining/Assignment 2/weightsCNN_Norm.h5'\n",
        "best_weightsCNN_Norm = '/content/drive/MyDrive/University/Data Mining/Assignment 2/best_weights_CNN_Norm.h5'"
      ],
      "metadata": {
        "id": "flkkeGwcWKe4"
      },
      "id": "flkkeGwcWKe4",
      "execution_count": 4,
      "outputs": []
    },
    {
      "cell_type": "markdown",
      "id": "b61cee59",
      "metadata": {
        "id": "b61cee59"
      },
      "source": [
        "# 1- Dataset and Train Test Splits (Already done)\n",
        "For this, code is already given below. The variable X contains the images. Each image is flattenend in a vector (1D array). There are total 5000 images. Each image has a resolution of 28x28 (which when converted to a vector make 784 dimensions). The variable y has 5000 labels corresponding to each image. The value of labels is between 0-9, representing the handwritten digit it represents. Thus, its a multiclass classification problem where given an input image, we have to predict it's class out of all possible 10 classes.\n",
        "\n",
        "Execute the following cell to get the data and it's labels."
      ]
    },
    {
      "cell_type": "code",
      "execution_count": 5,
      "id": "e4e40497",
      "metadata": {
        "id": "e4e40497"
      },
      "outputs": [],
      "source": [
        "from mlxtend.data import mnist_data\n",
        "X, y = mnist_data()"
      ]
    },
    {
      "cell_type": "markdown",
      "id": "ed2f2f79",
      "metadata": {
        "id": "ed2f2f79"
      },
      "source": [
        "## 1.1- Split the data into train and test partitions"
      ]
    },
    {
      "cell_type": "code",
      "execution_count": 6,
      "id": "168bd5c6",
      "metadata": {
        "id": "168bd5c6"
      },
      "outputs": [],
      "source": [
        "from sklearn.model_selection import train_test_split\n",
        "X_train, X_test, y_train, y_test = train_test_split(X, y, test_size=0.2, random_state=roll_number, stratify=y)"
      ]
    },
    {
      "cell_type": "markdown",
      "id": "4289ae26",
      "metadata": {
        "id": "4289ae26"
      },
      "source": [
        "# 2- Build Feedforward Neural Network\n",
        "* Complete the function below that builds and returns a feedforward neurl network\n",
        "* Use the number of hidden layers and neurons as you see fit.\n",
        "* Use appropriate activation function for each hidden layer and the output layer\n",
        "* After the model is returned, compile it using appropriate loss function and the optimizer. Stochastic Gradient Decent (SGD) is also available with tensorflow but there are some other fancier optimizers as well. See following links for available layers, loss functions, activation functions, and optimizers:\n",
        "\n",
        "https://www.tensorflow.org/api_docs/python/tf/keras/optimizers\n",
        "\n",
        "https://www.tensorflow.org/api_docs/python/tf/keras/losses\n",
        "\n",
        "https://www.tensorflow.org/api_docs/python/tf/keras/layers\n",
        "\n",
        "https://www.tensorflow.org/api_docs/python/tf/keras/Model\n",
        "\n",
        "https://www.tensorflow.org/api_docs/python/tf/keras/activations"
      ]
    },
    {
      "cell_type": "code",
      "source": [
        "y_trainC = to_categorical(y_train,dtype='float32')\n",
        "y_testC = to_categorical(y_test,dtype='float32')"
      ],
      "metadata": {
        "id": "QtVSO4X7FWOi"
      },
      "id": "QtVSO4X7FWOi",
      "execution_count": 7,
      "outputs": []
    },
    {
      "cell_type": "code",
      "execution_count": 8,
      "id": "0cdc31f6",
      "metadata": {
        "id": "0cdc31f6"
      },
      "outputs": [],
      "source": [
        "def get_model(input_shape = (None, 784, None), nbr_classes = 10):\n",
        "    # To do: Define model using functional API of tensorflow keras (not sequential)\n",
        "    ''' input_shape: Used to define the input shape of the model in Input layer\n",
        "        nbr_classes: Used to define the number of neurons of the last layer\n",
        "    '''\n",
        "    model1 = Input(shape=(input_shape[1],))\n",
        "    model2 = Dense(128, activation='ReLU')(model1)\n",
        "    model3 = BatchNormalization()(model2)\n",
        "    modeld1 = Dropout(0.5)(model3)\n",
        "    model4 = Dense(64, activation='ReLU')(modeld1)\n",
        "    model5 = BatchNormalization()(model4)\n",
        "    modeld2 = Dropout(0.5)(model5)\n",
        "    model6 = Dense(64, activation='ReLU')(modeld2)\n",
        "    model7 = BatchNormalization()(model6)\n",
        "    model8 = Dense(nbr_classes, activation='Softmax')(model7)\n",
        "    model = Model(inputs=model1, outputs=model8)\n",
        "    return model"
      ]
    },
    {
      "cell_type": "markdown",
      "id": "f8fd30c4",
      "metadata": {
        "id": "f8fd30c4"
      },
      "source": [
        "## 2.1 Define Early Stopping and Checkpoints\n",
        "\n",
        "Suppose we train the model for 1000 epochs. But we do not know at which epoch the learned weights are giving us the best performance. Thus, after each epoch, we check the loss on validation/test dataset and if it decreases from previous epoch, we save weights as a checkpoint. Furthermore, it is not necessary that after each epoch, we get better results. So, it makes sense that if validation loss is not decreasing since, lets say, 10 epochs, we should stop further training (called early stopping i.e., not going through all 1000 epochs as there is no point).\n",
        "\n",
        "* Implement early stopping and model checkpoints callbacks.\n",
        "* Monitor validation loss after each epoch and if it does not decrease for 10 epochs, stop training.\n",
        "* Monitor validation loss after each epoch and if the loss decreases since previous epoch, save a checkpoint.\n",
        "\n",
        "See following links:\n",
        "\n",
        "https://www.tensorflow.org/api_docs/python/tf/keras/callbacks"
      ]
    },
    {
      "cell_type": "code",
      "execution_count": 9,
      "id": "9ea946da",
      "metadata": {
        "id": "9ea946da"
      },
      "outputs": [],
      "source": [
        "# to do: define callbacks\n",
        "checkpointer = ModelCheckpoint(monitor = 'val_loss', mode = 'min', filepath = best_weights, save_best_only = True)\n",
        "earlyStopping= EarlyStopping(monitor=\"val_loss\",patience=30)\n"
      ]
    },
    {
      "cell_type": "markdown",
      "id": "12158bff",
      "metadata": {
        "id": "12158bff"
      },
      "source": [
        "## 2.2 Train The model\n",
        "\n",
        "* Fit the model define and compiled above.\n",
        "* Use appropriate batch size that fits your computer's memory.\n",
        "* Use testing data split above as validation.\n",
        "* Shuffle training data after every epoch.\n",
        "* Use callbacks defined above in fit function.\n",
        "* **Note:** You might need to one-hot encode the labels"
      ]
    },
    {
      "cell_type": "code",
      "source": [
        "model = get_model()\n",
        "try:\n",
        "  model.load_weights(best_weights)\n",
        "  print(\"Weights Loaded Successfully\")\n",
        "except:\n",
        "  print(\"Weights are not initialized\")"
      ],
      "metadata": {
        "id": "0Fy12EQJ7GMo",
        "colab": {
          "base_uri": "https://localhost:8080/"
        },
        "outputId": "7f5fb25d-b8ff-4fde-cd29-a72c1f108261"
      },
      "id": "0Fy12EQJ7GMo",
      "execution_count": 10,
      "outputs": [
        {
          "output_type": "stream",
          "name": "stdout",
          "text": [
            "Weights Loaded Successfully\n"
          ]
        }
      ]
    },
    {
      "cell_type": "code",
      "execution_count": 11,
      "id": "3e323ce2",
      "metadata": {
        "id": "3e323ce2",
        "colab": {
          "base_uri": "https://localhost:8080/"
        },
        "outputId": "bfca01b9-c55a-46ee-922e-323d7efaed4d"
      },
      "outputs": [
        {
          "output_type": "stream",
          "name": "stdout",
          "text": [
            "Model: \"model\"\n",
            "_________________________________________________________________\n",
            " Layer (type)                Output Shape              Param #   \n",
            "=================================================================\n",
            " input_1 (InputLayer)        [(None, 784)]             0         \n",
            "                                                                 \n",
            " dense (Dense)               (None, 128)               100480    \n",
            "                                                                 \n",
            " batch_normalization (BatchN  (None, 128)              512       \n",
            " ormalization)                                                   \n",
            "                                                                 \n",
            " dropout (Dropout)           (None, 128)               0         \n",
            "                                                                 \n",
            " dense_1 (Dense)             (None, 64)                8256      \n",
            "                                                                 \n",
            " batch_normalization_1 (Batc  (None, 64)               256       \n",
            " hNormalization)                                                 \n",
            "                                                                 \n",
            " dropout_1 (Dropout)         (None, 64)                0         \n",
            "                                                                 \n",
            " dense_2 (Dense)             (None, 64)                4160      \n",
            "                                                                 \n",
            " batch_normalization_2 (Batc  (None, 64)               256       \n",
            " hNormalization)                                                 \n",
            "                                                                 \n",
            " dense_3 (Dense)             (None, 10)                650       \n",
            "                                                                 \n",
            "=================================================================\n",
            "Total params: 114,570\n",
            "Trainable params: 114,058\n",
            "Non-trainable params: 512\n",
            "_________________________________________________________________\n",
            "Epoch 1/200\n",
            "63/63 [==============================] - 6s 16ms/step - loss: 0.2155 - accuracy: 0.9312 - val_loss: 0.2464 - val_accuracy: 0.9320\n",
            "Epoch 2/200\n",
            "63/63 [==============================] - 1s 11ms/step - loss: 0.1900 - accuracy: 0.9450 - val_loss: 0.2462 - val_accuracy: 0.9330\n",
            "Epoch 3/200\n",
            "63/63 [==============================] - 1s 8ms/step - loss: 0.1956 - accuracy: 0.9377 - val_loss: 0.2465 - val_accuracy: 0.9340\n",
            "Epoch 4/200\n",
            "63/63 [==============================] - 1s 9ms/step - loss: 0.1888 - accuracy: 0.9392 - val_loss: 0.2503 - val_accuracy: 0.9340\n",
            "Epoch 5/200\n",
            "63/63 [==============================] - 1s 9ms/step - loss: 0.2032 - accuracy: 0.9427 - val_loss: 0.2463 - val_accuracy: 0.9350\n",
            "Epoch 6/200\n",
            "63/63 [==============================] - 1s 11ms/step - loss: 0.1771 - accuracy: 0.9482 - val_loss: 0.2459 - val_accuracy: 0.9350\n",
            "Epoch 7/200\n",
            "63/63 [==============================] - 0s 6ms/step - loss: 0.1913 - accuracy: 0.9433 - val_loss: 0.2494 - val_accuracy: 0.9350\n",
            "Epoch 8/200\n",
            "63/63 [==============================] - 0s 5ms/step - loss: 0.1861 - accuracy: 0.9427 - val_loss: 0.2480 - val_accuracy: 0.9390\n",
            "Epoch 9/200\n",
            "63/63 [==============================] - 0s 5ms/step - loss: 0.1900 - accuracy: 0.9415 - val_loss: 0.2521 - val_accuracy: 0.9330\n",
            "Epoch 10/200\n",
            "63/63 [==============================] - 0s 5ms/step - loss: 0.1801 - accuracy: 0.9460 - val_loss: 0.2502 - val_accuracy: 0.9330\n",
            "Epoch 11/200\n",
            "63/63 [==============================] - 0s 6ms/step - loss: 0.1726 - accuracy: 0.9492 - val_loss: 0.2480 - val_accuracy: 0.9330\n",
            "Epoch 12/200\n",
            "63/63 [==============================] - 0s 5ms/step - loss: 0.1800 - accuracy: 0.9438 - val_loss: 0.2541 - val_accuracy: 0.9320\n",
            "Epoch 13/200\n",
            "63/63 [==============================] - 0s 6ms/step - loss: 0.1910 - accuracy: 0.9445 - val_loss: 0.2526 - val_accuracy: 0.9360\n",
            "Epoch 14/200\n",
            "63/63 [==============================] - 0s 6ms/step - loss: 0.1689 - accuracy: 0.9463 - val_loss: 0.2525 - val_accuracy: 0.9330\n",
            "Epoch 15/200\n",
            "63/63 [==============================] - 0s 6ms/step - loss: 0.1708 - accuracy: 0.9438 - val_loss: 0.2509 - val_accuracy: 0.9350\n",
            "Epoch 16/200\n",
            "63/63 [==============================] - 0s 5ms/step - loss: 0.1779 - accuracy: 0.9452 - val_loss: 0.2508 - val_accuracy: 0.9340\n",
            "Epoch 17/200\n",
            "63/63 [==============================] - 0s 6ms/step - loss: 0.1711 - accuracy: 0.9485 - val_loss: 0.2528 - val_accuracy: 0.9350\n",
            "Epoch 18/200\n",
            "63/63 [==============================] - 0s 6ms/step - loss: 0.1495 - accuracy: 0.9515 - val_loss: 0.2532 - val_accuracy: 0.9360\n",
            "Epoch 19/200\n",
            "63/63 [==============================] - 0s 5ms/step - loss: 0.1660 - accuracy: 0.9490 - val_loss: 0.2569 - val_accuracy: 0.9350\n",
            "Epoch 20/200\n",
            "63/63 [==============================] - 0s 6ms/step - loss: 0.1582 - accuracy: 0.9530 - val_loss: 0.2593 - val_accuracy: 0.9340\n",
            "Epoch 21/200\n",
            "63/63 [==============================] - 0s 6ms/step - loss: 0.1866 - accuracy: 0.9440 - val_loss: 0.2582 - val_accuracy: 0.9350\n",
            "Epoch 22/200\n",
            "63/63 [==============================] - 0s 5ms/step - loss: 0.1613 - accuracy: 0.9505 - val_loss: 0.2577 - val_accuracy: 0.9340\n",
            "Epoch 23/200\n",
            "63/63 [==============================] - 0s 6ms/step - loss: 0.1538 - accuracy: 0.9560 - val_loss: 0.2590 - val_accuracy: 0.9340\n",
            "Epoch 24/200\n",
            "63/63 [==============================] - 0s 6ms/step - loss: 0.1560 - accuracy: 0.9530 - val_loss: 0.2577 - val_accuracy: 0.9350\n",
            "Epoch 25/200\n",
            "63/63 [==============================] - 0s 6ms/step - loss: 0.1537 - accuracy: 0.9578 - val_loss: 0.2587 - val_accuracy: 0.9350\n",
            "Epoch 26/200\n",
            "63/63 [==============================] - 0s 6ms/step - loss: 0.1542 - accuracy: 0.9498 - val_loss: 0.2568 - val_accuracy: 0.9350\n",
            "Epoch 27/200\n",
            "63/63 [==============================] - 0s 5ms/step - loss: 0.1526 - accuracy: 0.9542 - val_loss: 0.2583 - val_accuracy: 0.9340\n",
            "Epoch 28/200\n",
            "63/63 [==============================] - 0s 6ms/step - loss: 0.1427 - accuracy: 0.9563 - val_loss: 0.2539 - val_accuracy: 0.9330\n",
            "Epoch 29/200\n",
            "63/63 [==============================] - 0s 6ms/step - loss: 0.1624 - accuracy: 0.9520 - val_loss: 0.2564 - val_accuracy: 0.9350\n",
            "Epoch 30/200\n",
            "63/63 [==============================] - 0s 6ms/step - loss: 0.1629 - accuracy: 0.9465 - val_loss: 0.2553 - val_accuracy: 0.9350\n",
            "Epoch 31/200\n",
            "63/63 [==============================] - 0s 6ms/step - loss: 0.1414 - accuracy: 0.9570 - val_loss: 0.2575 - val_accuracy: 0.9370\n",
            "Epoch 32/200\n",
            "63/63 [==============================] - 0s 5ms/step - loss: 0.1478 - accuracy: 0.9550 - val_loss: 0.2584 - val_accuracy: 0.9360\n",
            "Epoch 33/200\n",
            "63/63 [==============================] - 0s 5ms/step - loss: 0.1458 - accuracy: 0.9565 - val_loss: 0.2555 - val_accuracy: 0.9370\n",
            "Epoch 34/200\n",
            "63/63 [==============================] - 0s 5ms/step - loss: 0.1363 - accuracy: 0.9565 - val_loss: 0.2567 - val_accuracy: 0.9360\n",
            "Epoch 35/200\n",
            "63/63 [==============================] - 0s 6ms/step - loss: 0.1514 - accuracy: 0.9532 - val_loss: 0.2574 - val_accuracy: 0.9340\n",
            "Epoch 36/200\n",
            "63/63 [==============================] - 0s 5ms/step - loss: 0.1498 - accuracy: 0.9523 - val_loss: 0.2590 - val_accuracy: 0.9340\n"
          ]
        }
      ],
      "source": [
        "# To do: compile the model with appropriate loss function\n",
        "model.summary()\n",
        "model.compile(loss='categorical_crossentropy', optimizer=Adam(learning_rate=1e-4), metrics=['accuracy'])\n",
        "history = model.fit(X_train, y_trainC, validation_data=(X_test, y_testC), batch_size=64, epochs=200, callbacks=[checkpointer, earlyStopping])"
      ]
    },
    {
      "cell_type": "code",
      "source": [
        "model.save_weights(weights)"
      ],
      "metadata": {
        "id": "MAEma49DGgae"
      },
      "id": "MAEma49DGgae",
      "execution_count": 12,
      "outputs": []
    },
    {
      "cell_type": "markdown",
      "id": "c8127261",
      "metadata": {
        "id": "c8127261"
      },
      "source": [
        "## 2.3 Predictions\n",
        "\n",
        "* Load the best checkpoints saved in above step.\n",
        "* Use this checkpoint to get predictions\n",
        "* Get class labels\n",
        "* Plot confusion matrix just like Assignment 1\n",
        "* Calculate macro precision, macro recall, and macro f1-score just like Assignment 1 and save it in a variable so that we can plot it later for comparison."
      ]
    },
    {
      "cell_type": "code",
      "source": [
        "model = get_model()\n",
        "try:\n",
        "  model.load_weights(best_weights)\n",
        "  print(\"Weights Loaded Successfully\")\n",
        "except:\n",
        "  print(\"Weights are not initialized\")"
      ],
      "metadata": {
        "id": "5RHPrV3YHVig",
        "colab": {
          "base_uri": "https://localhost:8080/"
        },
        "outputId": "3a8f104a-8499-49ee-8533-ddd000f5c079"
      },
      "id": "5RHPrV3YHVig",
      "execution_count": 13,
      "outputs": [
        {
          "output_type": "stream",
          "name": "stdout",
          "text": [
            "Weights Loaded Successfully\n"
          ]
        }
      ]
    },
    {
      "cell_type": "code",
      "source": [
        "model.compile(loss='categorical_crossentropy', optimizer=Adam(learning_rate=1e-4), metrics=['accuracy'])\n",
        "y_pred = np.argmax(model.predict(X_test), axis=1)"
      ],
      "metadata": {
        "id": "Z_HdlKqEHdlN"
      },
      "id": "Z_HdlKqEHdlN",
      "execution_count": 14,
      "outputs": []
    },
    {
      "cell_type": "code",
      "source": [
        "def conMat(test, pred): # Confusion matrix display function\n",
        "    con_matrix = confusion_matrix(test, pred)\n",
        "    print(\"\\nConfusion Matrix: \")\n",
        "    con_matrix = ConfusionMatrixDisplay(con_matrix)\n",
        "    con_matrix.plot()\n",
        "    plt.show()"
      ],
      "metadata": {
        "id": "UwIh-6OhPA27"
      },
      "id": "UwIh-6OhPA27",
      "execution_count": 15,
      "outputs": []
    },
    {
      "cell_type": "code",
      "source": [
        "conMat(y_test, y_pred)\n",
        "\n",
        "accuracy = accuracy_score(y_test, y_pred)\n",
        "c_report = classification_report(y_test, y_pred)\n",
        "print(\"\\nAccuracy: \", accuracy)\n",
        "print(\"\\nClasswise Classification Report: \\n\", c_report)\n",
        "\n",
        "\n",
        "modelMac = {}\n",
        "modelMac['precision'], modelMac['recall'], modelMac['f1score'], modelMac['support'] = precision_recall_fscore_support(y_test, y_pred, average = 'macro')\n",
        "\n",
        "print(\"\\nMacro Average Evaluation Metrics:\")\n",
        "print(\"\\nPrecision:\", modelMac['precision'])\n",
        "print(\"Recall:\", modelMac['recall'])\n",
        "print(\"F1 score:\", modelMac['f1score'])\n",
        "print(\"Support:\", modelMac['support'])"
      ],
      "metadata": {
        "id": "pTbWP5VmKrI3",
        "colab": {
          "base_uri": "https://localhost:8080/",
          "height": 804
        },
        "outputId": "1040ce00-9280-4d11-bd40-072506855c35"
      },
      "id": "pTbWP5VmKrI3",
      "execution_count": 16,
      "outputs": [
        {
          "output_type": "stream",
          "name": "stdout",
          "text": [
            "\n",
            "Confusion Matrix: \n"
          ]
        },
        {
          "output_type": "display_data",
          "data": {
            "text/plain": [
              "<Figure size 432x288 with 2 Axes>"
            ],
            "image/png": "[encoded data removed]"
          },
          "metadata": {
            "needs_background": "light"
          }
        },
        {
          "output_type": "stream",
          "name": "stdout",
          "text": [
            "\n",
            "Accuracy:  0.935\n",
            "\n",
            "Classwise Classification Report: \n",
            "               precision    recall  f1-score   support\n",
            "\n",
            "           0       1.00      1.00      1.00       100\n",
            "           1       0.96      0.95      0.95       100\n",
            "           2       0.97      0.91      0.94       100\n",
            "           3       0.92      0.92      0.92       100\n",
            "           4       0.92      0.95      0.94       100\n",
            "           5       0.90      0.88      0.89       100\n",
            "           6       0.93      0.96      0.95       100\n",
            "           7       0.95      0.96      0.96       100\n",
            "           8       0.93      0.92      0.92       100\n",
            "           9       0.87      0.90      0.89       100\n",
            "\n",
            "    accuracy                           0.94      1000\n",
            "   macro avg       0.94      0.94      0.94      1000\n",
            "weighted avg       0.94      0.94      0.94      1000\n",
            "\n",
            "\n",
            "Macro Average Evaluation Metrics:\n",
            "\n",
            "Precision: 0.9353583568256113\n",
            "Recall: 0.9350000000000002\n",
            "F1 score: 0.9350126990711374\n",
            "Support: None\n"
          ]
        }
      ]
    },
    {
      "cell_type": "markdown",
      "id": "4d1f47ef",
      "metadata": {
        "id": "4d1f47ef"
      },
      "source": [
        "# 3- Convolutional Neural Networks\n",
        "\n",
        "* Now reshape all the training and testing images to 28x28x1 (as these are grayscale images, there would be just 1 channel)\n",
        "* Define a 2D convolutional neural network instead of feedforward network. \n",
        "* **Hint**: Note that the output layer would still be a Dense layer.\n",
        "* Repeat 2.1, 2.2, and 2.3 from above but this time, use CNN model instead.\n",
        "\n",
        "**Useful links:**\n",
        "\n",
        "https://www.tensorflow.org/api_docs/python/tf/keras/layers/Conv2D\n",
        "\n",
        "https://www.tensorflow.org/api_docs/python/tf/keras/layers/AveragePooling2D\n",
        "\n",
        "https://www.tensorflow.org/api_docs/python/tf/keras/layers/GlobalAveragePooling2D\n",
        "\n",
        "https://www.tensorflow.org/api_docs/python/tf/keras/layers/GlobalMaxPool2D\n",
        "\n",
        "https://www.tensorflow.org/api_docs/python/tf/keras/layers/MaxPool2D\n",
        "\n",
        "https://www.tensorflow.org/api_docs/python/tf/keras/layers/Flatten\n",
        "\n",
        "https://www.tensorflow.org/api_docs/python/tf/keras/layers/BatchNormalization"
      ]
    },
    {
      "cell_type": "code",
      "source": [
        "X_trainCNN=[]\n",
        "X_testCNN=[]\n",
        "for i in range(len(X_train)):\n",
        "  X_trainCNN.append(X_train[i].reshape((28,28,1)))\n",
        "for i in range(len(X_test)):\n",
        "  X_testCNN.append(X_test[i].reshape((28,28,1)))\n",
        "\n",
        "X_trainCNN=np.array(X_trainCNN)\n",
        "X_testCNN=np.array(X_testCNN)\n"
      ],
      "metadata": {
        "id": "-NdbZlNu1_k6"
      },
      "id": "-NdbZlNu1_k6",
      "execution_count": 17,
      "outputs": []
    },
    {
      "cell_type": "code",
      "execution_count": 18,
      "id": "76396496",
      "metadata": {
        "id": "76396496"
      },
      "outputs": [],
      "source": [
        "def get_cnn_model(input_shape = (None, None, None), nbr_classes = 10):\n",
        "    # To do: Define model using functional API of tensorflow keras (not sequential)\n",
        "    ''' input_shape: Used to define the input shape of the model in Input layer\n",
        "        nbr_classes: Used to define the number of neurons of the last layer\n",
        "    '''\n",
        "    model1 = Input(shape=(28,28,1))\n",
        "    model2 = Conv2D(64, kernel_size=3, padding='same', activation='ReLU')(model1)\n",
        "    model3 = BatchNormalization()(model2)\n",
        "    model4 = MaxPooling2D(pool_size=(16, 16),strides=(1, 1), padding='same')(model3)\n",
        "    model5 = Conv2D(64, kernel_size=3, padding='same', activation='ReLU')(model4)\n",
        "    model6 = BatchNormalization()(model5)\n",
        "    model7 = MaxPooling2D(pool_size=(8, 8),strides=(2, 2), padding='same')(model6)\n",
        "    model8 = Flatten()(model7)\n",
        "    model9 = Dense(128, activation=\"ReLU\")(model8)\n",
        "    model10 = BatchNormalization()(model9)\n",
        "    model11 = Dense(64,activation=\"ReLU\")(model10)\n",
        "    model12 = BatchNormalization()(model11)\n",
        "    model13 = Dense(64,activation=\"ReLU\")(model12)\n",
        "    model14 = BatchNormalization()(model13)\n",
        "    model15=  Dense(nbr_classes,activation='softmax')(model14)\n",
        "    model = Model(inputs=model1,outputs=model15)\n",
        "    return model"
      ]
    },
    {
      "cell_type": "code",
      "execution_count": 19,
      "id": "3eaf5fdf",
      "metadata": {
        "id": "3eaf5fdf"
      },
      "outputs": [],
      "source": [
        "checkpointerCNN = ModelCheckpoint(monitor = 'val_loss', mode = 'min', filepath = best_weightsCNN, save_best_only = True)\n",
        "earlyStoppingCNN = EarlyStopping(monitor=\"val_loss\",patience=30)"
      ]
    },
    {
      "cell_type": "code",
      "source": [
        "modelcnn = get_cnn_model()\n",
        "try:\n",
        "  modelcnn.load_weights(best_weightsCNN)\n",
        "  print(\"Weights Loaded Successfully\")\n",
        "except:\n",
        "  print(\"Weights are not initialized\")"
      ],
      "metadata": {
        "id": "qq4TN6zy7B3D",
        "colab": {
          "base_uri": "https://localhost:8080/"
        },
        "outputId": "01c3160e-0019-4363-f52e-a327332628f3"
      },
      "id": "qq4TN6zy7B3D",
      "execution_count": 20,
      "outputs": [
        {
          "output_type": "stream",
          "name": "stdout",
          "text": [
            "Weights Loaded Successfully\n"
          ]
        }
      ]
    },
    {
      "cell_type": "code",
      "source": [
        "modelcnn.summary()\n",
        "modelcnn.compile(loss='sparse_categorical_crossentropy', optimizer=Adam(learning_rate=1e-4), metrics=['accuracy'])\n",
        "history2 = modelcnn.fit(X_trainCNN, y_train, validation_data=(X_testCNN, y_test), batch_size=16, epochs=200, callbacks=[checkpointerCNN, earlyStoppingCNN])"
      ],
      "metadata": {
        "id": "yynN1N0X381w",
        "colab": {
          "base_uri": "https://localhost:8080/"
        },
        "outputId": "002f0f97-d876-4f8e-9540-b2fb4cd05f4d"
      },
      "id": "yynN1N0X381w",
      "execution_count": 21,
      "outputs": [
        {
          "output_type": "stream",
          "name": "stdout",
          "text": [
            "Model: \"model_2\"\n",
            "_________________________________________________________________\n",
            " Layer (type)                Output Shape              Param #   \n",
            "=================================================================\n",
            " input_3 (InputLayer)        [(None, 28, 28, 1)]       0         \n",
            "                                                                 \n",
            " conv2d (Conv2D)             (None, 28, 28, 64)        640       \n",
            "                                                                 \n",
            " batch_normalization_6 (Batc  (None, 28, 28, 64)       256       \n",
            " hNormalization)                                                 \n",
            "                                                                 \n",
            " max_pooling2d (MaxPooling2D  (None, 28, 28, 64)       0         \n",
            " )                                                               \n",
            "                                                                 \n",
            " conv2d_1 (Conv2D)           (None, 28, 28, 64)        36928     \n",
            "                                                                 \n",
            " batch_normalization_7 (Batc  (None, 28, 28, 64)       256       \n",
            " hNormalization)                                                 \n",
            "                                                                 \n",
            " max_pooling2d_1 (MaxPooling  (None, 14, 14, 64)       0         \n",
            " 2D)                                                             \n",
            "                                                                 \n",
            " flatten (Flatten)           (None, 12544)             0         \n",
            "                                                                 \n",
            " dense_8 (Dense)             (None, 128)               1605760   \n",
            "                                                                 \n",
            " batch_normalization_8 (Batc  (None, 128)              512       \n",
            " hNormalization)                                                 \n",
            "                                                                 \n",
            " dense_9 (Dense)             (None, 64)                8256      \n",
            "                                                                 \n",
            " batch_normalization_9 (Batc  (None, 64)               256       \n",
            " hNormalization)                                                 \n",
            "                                                                 \n",
            " dense_10 (Dense)            (None, 64)                4160      \n",
            "                                                                 \n",
            " batch_normalization_10 (Bat  (None, 64)               256       \n",
            " chNormalization)                                                \n",
            "                                                                 \n",
            " dense_11 (Dense)            (None, 10)                650       \n",
            "                                                                 \n",
            "=================================================================\n",
            "Total params: 1,657,930\n",
            "Trainable params: 1,657,162\n",
            "Non-trainable params: 768\n",
            "_________________________________________________________________\n",
            "Epoch 1/200\n",
            "250/250 [==============================] - 12s 9ms/step - loss: 0.0200 - accuracy: 0.9948 - val_loss: 0.1993 - val_accuracy: 0.9530\n",
            "Epoch 2/200\n",
            "250/250 [==============================] - 2s 6ms/step - loss: 0.0299 - accuracy: 0.9918 - val_loss: 0.3460 - val_accuracy: 0.9000\n",
            "Epoch 3/200\n",
            "250/250 [==============================] - 2s 7ms/step - loss: 0.0313 - accuracy: 0.9927 - val_loss: 0.1193 - val_accuracy: 0.9660\n",
            "Epoch 4/200\n",
            "250/250 [==============================] - 2s 7ms/step - loss: 0.0217 - accuracy: 0.9942 - val_loss: 0.1040 - val_accuracy: 0.9680\n",
            "Epoch 5/200\n",
            "250/250 [==============================] - 1s 6ms/step - loss: 0.0192 - accuracy: 0.9950 - val_loss: 0.1164 - val_accuracy: 0.9700\n",
            "Epoch 6/200\n",
            "250/250 [==============================] - 1s 6ms/step - loss: 0.0187 - accuracy: 0.9948 - val_loss: 0.1160 - val_accuracy: 0.9680\n",
            "Epoch 7/200\n",
            "250/250 [==============================] - 2s 7ms/step - loss: 0.0286 - accuracy: 0.9933 - val_loss: 0.2358 - val_accuracy: 0.9300\n",
            "Epoch 8/200\n",
            "250/250 [==============================] - 2s 7ms/step - loss: 0.0222 - accuracy: 0.9952 - val_loss: 0.1308 - val_accuracy: 0.9530\n",
            "Epoch 9/200\n",
            "250/250 [==============================] - 2s 7ms/step - loss: 0.0139 - accuracy: 0.9967 - val_loss: 0.0945 - val_accuracy: 0.9720\n",
            "Epoch 10/200\n",
            "250/250 [==============================] - 2s 7ms/step - loss: 0.0117 - accuracy: 0.9977 - val_loss: 0.0919 - val_accuracy: 0.9730\n",
            "Epoch 11/200\n",
            "250/250 [==============================] - 2s 6ms/step - loss: 0.0156 - accuracy: 0.9948 - val_loss: 0.0996 - val_accuracy: 0.9740\n",
            "Epoch 12/200\n",
            "250/250 [==============================] - 2s 7ms/step - loss: 0.0087 - accuracy: 0.9987 - val_loss: 0.1005 - val_accuracy: 0.9780\n",
            "Epoch 13/200\n",
            "250/250 [==============================] - 2s 6ms/step - loss: 0.0154 - accuracy: 0.9967 - val_loss: 0.0924 - val_accuracy: 0.9740\n",
            "Epoch 14/200\n",
            "250/250 [==============================] - 2s 7ms/step - loss: 0.0143 - accuracy: 0.9970 - val_loss: 0.1484 - val_accuracy: 0.9650\n",
            "Epoch 15/200\n",
            "250/250 [==============================] - 2s 6ms/step - loss: 0.0182 - accuracy: 0.9952 - val_loss: 0.1461 - val_accuracy: 0.9630\n",
            "Epoch 16/200\n",
            "250/250 [==============================] - 2s 6ms/step - loss: 0.0160 - accuracy: 0.9973 - val_loss: 0.1311 - val_accuracy: 0.9630\n",
            "Epoch 17/200\n",
            "250/250 [==============================] - 2s 7ms/step - loss: 0.0154 - accuracy: 0.9962 - val_loss: 0.1783 - val_accuracy: 0.9550\n",
            "Epoch 18/200\n",
            "250/250 [==============================] - 2s 7ms/step - loss: 0.0163 - accuracy: 0.9955 - val_loss: 0.1029 - val_accuracy: 0.9740\n",
            "Epoch 19/200\n",
            "250/250 [==============================] - 2s 7ms/step - loss: 0.0196 - accuracy: 0.9945 - val_loss: 0.1456 - val_accuracy: 0.9620\n",
            "Epoch 20/200\n",
            "250/250 [==============================] - 2s 6ms/step - loss: 0.0157 - accuracy: 0.9955 - val_loss: 0.1058 - val_accuracy: 0.9780\n",
            "Epoch 21/200\n",
            "250/250 [==============================] - 2s 7ms/step - loss: 0.0180 - accuracy: 0.9952 - val_loss: 0.0923 - val_accuracy: 0.9700\n",
            "Epoch 22/200\n",
            "250/250 [==============================] - 2s 7ms/step - loss: 0.0199 - accuracy: 0.9937 - val_loss: 0.0965 - val_accuracy: 0.9660\n",
            "Epoch 23/200\n",
            "250/250 [==============================] - 2s 6ms/step - loss: 0.0145 - accuracy: 0.9965 - val_loss: 0.1069 - val_accuracy: 0.9720\n",
            "Epoch 24/200\n",
            "250/250 [==============================] - 2s 8ms/step - loss: 0.0127 - accuracy: 0.9970 - val_loss: 0.0917 - val_accuracy: 0.9720\n",
            "Epoch 25/200\n",
            "250/250 [==============================] - 2s 6ms/step - loss: 0.0113 - accuracy: 0.9962 - val_loss: 0.1487 - val_accuracy: 0.9630\n",
            "Epoch 26/200\n",
            "250/250 [==============================] - 2s 6ms/step - loss: 0.0101 - accuracy: 0.9967 - val_loss: 0.0962 - val_accuracy: 0.9740\n",
            "Epoch 27/200\n",
            "250/250 [==============================] - 2s 7ms/step - loss: 0.0098 - accuracy: 0.9980 - val_loss: 0.1063 - val_accuracy: 0.9700\n",
            "Epoch 28/200\n",
            "250/250 [==============================] - 2s 7ms/step - loss: 0.0112 - accuracy: 0.9973 - val_loss: 0.0826 - val_accuracy: 0.9810\n",
            "Epoch 29/200\n",
            "250/250 [==============================] - 2s 6ms/step - loss: 0.0071 - accuracy: 0.9980 - val_loss: 0.1239 - val_accuracy: 0.9720\n",
            "Epoch 30/200\n",
            "250/250 [==============================] - 2s 6ms/step - loss: 0.0155 - accuracy: 0.9952 - val_loss: 0.1215 - val_accuracy: 0.9710\n",
            "Epoch 31/200\n",
            "250/250 [==============================] - 2s 7ms/step - loss: 0.0116 - accuracy: 0.9962 - val_loss: 0.0905 - val_accuracy: 0.9760\n",
            "Epoch 32/200\n",
            "250/250 [==============================] - 2s 7ms/step - loss: 0.0207 - accuracy: 0.9920 - val_loss: 0.0975 - val_accuracy: 0.9760\n",
            "Epoch 33/200\n",
            "250/250 [==============================] - 2s 7ms/step - loss: 0.0179 - accuracy: 0.9937 - val_loss: 0.1126 - val_accuracy: 0.9650\n",
            "Epoch 34/200\n",
            "250/250 [==============================] - 2s 6ms/step - loss: 0.0230 - accuracy: 0.9942 - val_loss: 0.3754 - val_accuracy: 0.9110\n",
            "Epoch 35/200\n",
            "250/250 [==============================] - 2s 6ms/step - loss: 0.0259 - accuracy: 0.9925 - val_loss: 0.1309 - val_accuracy: 0.9630\n",
            "Epoch 36/200\n",
            "250/250 [==============================] - 2s 7ms/step - loss: 0.0207 - accuracy: 0.9930 - val_loss: 0.1296 - val_accuracy: 0.9700\n",
            "Epoch 37/200\n",
            "250/250 [==============================] - 2s 6ms/step - loss: 0.0201 - accuracy: 0.9937 - val_loss: 0.1491 - val_accuracy: 0.9680\n",
            "Epoch 38/200\n",
            "250/250 [==============================] - 2s 6ms/step - loss: 0.0108 - accuracy: 0.9975 - val_loss: 0.0914 - val_accuracy: 0.9800\n",
            "Epoch 39/200\n",
            "250/250 [==============================] - 2s 7ms/step - loss: 0.0110 - accuracy: 0.9970 - val_loss: 0.0958 - val_accuracy: 0.9790\n",
            "Epoch 40/200\n",
            "250/250 [==============================] - 2s 7ms/step - loss: 0.0070 - accuracy: 0.9983 - val_loss: 0.0830 - val_accuracy: 0.9780\n",
            "Epoch 41/200\n",
            "250/250 [==============================] - 2s 7ms/step - loss: 0.0113 - accuracy: 0.9965 - val_loss: 0.0876 - val_accuracy: 0.9760\n",
            "Epoch 42/200\n",
            "250/250 [==============================] - 2s 7ms/step - loss: 0.0106 - accuracy: 0.9973 - val_loss: 0.1065 - val_accuracy: 0.9690\n",
            "Epoch 43/200\n",
            "250/250 [==============================] - 2s 7ms/step - loss: 0.0127 - accuracy: 0.9970 - val_loss: 0.1099 - val_accuracy: 0.9720\n",
            "Epoch 44/200\n",
            "250/250 [==============================] - 2s 6ms/step - loss: 0.0117 - accuracy: 0.9977 - val_loss: 0.0885 - val_accuracy: 0.9740\n",
            "Epoch 45/200\n",
            "250/250 [==============================] - 2s 7ms/step - loss: 0.0077 - accuracy: 0.9985 - val_loss: 0.0828 - val_accuracy: 0.9820\n",
            "Epoch 46/200\n",
            "250/250 [==============================] - 2s 7ms/step - loss: 0.0099 - accuracy: 0.9973 - val_loss: 0.0956 - val_accuracy: 0.9720\n",
            "Epoch 47/200\n",
            "250/250 [==============================] - 2s 7ms/step - loss: 0.0099 - accuracy: 0.9973 - val_loss: 0.1293 - val_accuracy: 0.9630\n",
            "Epoch 48/200\n",
            "250/250 [==============================] - 2s 6ms/step - loss: 0.0056 - accuracy: 0.9987 - val_loss: 0.0856 - val_accuracy: 0.9800\n",
            "Epoch 49/200\n",
            "250/250 [==============================] - 2s 7ms/step - loss: 0.0077 - accuracy: 0.9980 - val_loss: 0.1381 - val_accuracy: 0.9660\n",
            "Epoch 50/200\n",
            "250/250 [==============================] - 2s 7ms/step - loss: 0.0126 - accuracy: 0.9970 - val_loss: 0.1015 - val_accuracy: 0.9710\n",
            "Epoch 51/200\n",
            "250/250 [==============================] - 2s 8ms/step - loss: 0.0114 - accuracy: 0.9973 - val_loss: 0.0876 - val_accuracy: 0.9730\n",
            "Epoch 52/200\n",
            "250/250 [==============================] - 2s 8ms/step - loss: 0.0086 - accuracy: 0.9980 - val_loss: 0.0824 - val_accuracy: 0.9800\n",
            "Epoch 53/200\n",
            "250/250 [==============================] - 2s 7ms/step - loss: 0.0059 - accuracy: 0.9983 - val_loss: 0.0980 - val_accuracy: 0.9720\n",
            "Epoch 54/200\n",
            "250/250 [==============================] - 2s 6ms/step - loss: 0.0072 - accuracy: 0.9983 - val_loss: 0.1095 - val_accuracy: 0.9750\n",
            "Epoch 55/200\n",
            "250/250 [==============================] - 2s 6ms/step - loss: 0.0080 - accuracy: 0.9977 - val_loss: 0.1038 - val_accuracy: 0.9730\n",
            "Epoch 56/200\n",
            "250/250 [==============================] - 2s 6ms/step - loss: 0.0097 - accuracy: 0.9973 - val_loss: 0.0883 - val_accuracy: 0.9750\n",
            "Epoch 57/200\n",
            "250/250 [==============================] - 2s 7ms/step - loss: 0.0078 - accuracy: 0.9975 - val_loss: 0.0862 - val_accuracy: 0.9780\n",
            "Epoch 58/200\n",
            "250/250 [==============================] - 2s 6ms/step - loss: 0.0106 - accuracy: 0.9967 - val_loss: 0.1891 - val_accuracy: 0.9520\n",
            "Epoch 59/200\n",
            "250/250 [==============================] - 2s 9ms/step - loss: 0.0098 - accuracy: 0.9975 - val_loss: 0.0780 - val_accuracy: 0.9800\n",
            "Epoch 60/200\n",
            "250/250 [==============================] - 2s 7ms/step - loss: 0.0081 - accuracy: 0.9983 - val_loss: 0.1247 - val_accuracy: 0.9690\n",
            "Epoch 61/200\n",
            "250/250 [==============================] - 2s 7ms/step - loss: 0.0073 - accuracy: 0.9980 - val_loss: 0.0902 - val_accuracy: 0.9800\n",
            "Epoch 62/200\n",
            "250/250 [==============================] - 2s 6ms/step - loss: 0.0127 - accuracy: 0.9962 - val_loss: 0.1333 - val_accuracy: 0.9680\n",
            "Epoch 63/200\n",
            "250/250 [==============================] - 2s 7ms/step - loss: 0.0103 - accuracy: 0.9975 - val_loss: 0.1815 - val_accuracy: 0.9580\n",
            "Epoch 64/200\n",
            "250/250 [==============================] - 2s 6ms/step - loss: 0.0113 - accuracy: 0.9967 - val_loss: 0.1357 - val_accuracy: 0.9670\n",
            "Epoch 65/200\n",
            "250/250 [==============================] - 2s 7ms/step - loss: 0.0067 - accuracy: 0.9983 - val_loss: 1.4244 - val_accuracy: 0.9280\n",
            "Epoch 66/200\n",
            "250/250 [==============================] - 2s 7ms/step - loss: 0.0091 - accuracy: 0.9970 - val_loss: 0.1077 - val_accuracy: 0.9730\n",
            "Epoch 67/200\n",
            "250/250 [==============================] - 2s 7ms/step - loss: 0.0067 - accuracy: 0.9980 - val_loss: 0.0930 - val_accuracy: 0.9790\n",
            "Epoch 68/200\n",
            "250/250 [==============================] - 2s 7ms/step - loss: 0.0063 - accuracy: 0.9987 - val_loss: 0.0914 - val_accuracy: 0.9730\n",
            "Epoch 69/200\n",
            "250/250 [==============================] - 2s 7ms/step - loss: 0.0078 - accuracy: 0.9983 - val_loss: 0.0894 - val_accuracy: 0.9750\n",
            "Epoch 70/200\n",
            "250/250 [==============================] - 2s 6ms/step - loss: 0.0080 - accuracy: 0.9985 - val_loss: 0.0969 - val_accuracy: 0.9800\n",
            "Epoch 71/200\n",
            "250/250 [==============================] - 2s 6ms/step - loss: 0.0081 - accuracy: 0.9985 - val_loss: 0.1090 - val_accuracy: 0.9690\n",
            "Epoch 72/200\n",
            "250/250 [==============================] - 2s 6ms/step - loss: 0.0137 - accuracy: 0.9955 - val_loss: 0.0844 - val_accuracy: 0.9800\n",
            "Epoch 73/200\n",
            "250/250 [==============================] - 2s 8ms/step - loss: 0.0073 - accuracy: 0.9980 - val_loss: 0.0778 - val_accuracy: 0.9820\n",
            "Epoch 74/200\n",
            "250/250 [==============================] - 2s 6ms/step - loss: 0.0098 - accuracy: 0.9975 - val_loss: 0.1122 - val_accuracy: 0.9730\n",
            "Epoch 75/200\n",
            "250/250 [==============================] - 2s 6ms/step - loss: 0.0070 - accuracy: 0.9983 - val_loss: 0.1180 - val_accuracy: 0.9730\n",
            "Epoch 76/200\n",
            "250/250 [==============================] - 2s 6ms/step - loss: 0.0054 - accuracy: 0.9985 - val_loss: 0.1139 - val_accuracy: 0.9780\n",
            "Epoch 77/200\n",
            "250/250 [==============================] - 2s 6ms/step - loss: 0.0034 - accuracy: 0.9992 - val_loss: 0.0811 - val_accuracy: 0.9780\n",
            "Epoch 78/200\n",
            "250/250 [==============================] - 2s 7ms/step - loss: 0.0127 - accuracy: 0.9967 - val_loss: 0.0823 - val_accuracy: 0.9820\n",
            "Epoch 79/200\n",
            "250/250 [==============================] - 2s 7ms/step - loss: 0.0082 - accuracy: 0.9973 - val_loss: 0.0725 - val_accuracy: 0.9800\n",
            "Epoch 80/200\n",
            "250/250 [==============================] - 2s 7ms/step - loss: 0.0033 - accuracy: 0.9995 - val_loss: 0.0738 - val_accuracy: 0.9820\n",
            "Epoch 81/200\n",
            "250/250 [==============================] - 2s 6ms/step - loss: 0.0085 - accuracy: 0.9975 - val_loss: 0.0834 - val_accuracy: 0.9780\n",
            "Epoch 82/200\n",
            "250/250 [==============================] - 2s 7ms/step - loss: 0.0060 - accuracy: 0.9987 - val_loss: 0.0975 - val_accuracy: 0.9810\n",
            "Epoch 83/200\n",
            "250/250 [==============================] - 2s 6ms/step - loss: 0.0042 - accuracy: 0.9985 - val_loss: 0.1098 - val_accuracy: 0.9720\n",
            "Epoch 84/200\n",
            "250/250 [==============================] - 2s 7ms/step - loss: 0.0048 - accuracy: 0.9985 - val_loss: 0.1032 - val_accuracy: 0.9710\n",
            "Epoch 85/200\n",
            "250/250 [==============================] - 2s 6ms/step - loss: 0.0074 - accuracy: 0.9983 - val_loss: 0.1094 - val_accuracy: 0.9730\n",
            "Epoch 86/200\n",
            "250/250 [==============================] - 2s 7ms/step - loss: 0.0098 - accuracy: 0.9967 - val_loss: 0.1710 - val_accuracy: 0.9520\n",
            "Epoch 87/200\n",
            "250/250 [==============================] - 2s 7ms/step - loss: 0.0041 - accuracy: 0.9992 - val_loss: 0.0812 - val_accuracy: 0.9810\n",
            "Epoch 88/200\n",
            "250/250 [==============================] - 2s 7ms/step - loss: 0.0071 - accuracy: 0.9985 - val_loss: 0.0975 - val_accuracy: 0.9770\n",
            "Epoch 89/200\n",
            "250/250 [==============================] - 2s 6ms/step - loss: 0.0093 - accuracy: 0.9973 - val_loss: 0.1495 - val_accuracy: 0.9600\n",
            "Epoch 90/200\n",
            "250/250 [==============================] - 2s 6ms/step - loss: 0.0082 - accuracy: 0.9973 - val_loss: 0.0941 - val_accuracy: 0.9800\n",
            "Epoch 91/200\n",
            "250/250 [==============================] - 2s 7ms/step - loss: 0.0039 - accuracy: 0.9985 - val_loss: 0.0875 - val_accuracy: 0.9820\n",
            "Epoch 92/200\n",
            "250/250 [==============================] - 2s 6ms/step - loss: 0.0040 - accuracy: 0.9995 - val_loss: 0.0834 - val_accuracy: 0.9820\n",
            "Epoch 93/200\n",
            "250/250 [==============================] - 2s 6ms/step - loss: 0.0056 - accuracy: 0.9987 - val_loss: 0.1297 - val_accuracy: 0.9690\n",
            "Epoch 94/200\n",
            "250/250 [==============================] - 2s 6ms/step - loss: 0.0049 - accuracy: 0.9992 - val_loss: 0.0835 - val_accuracy: 0.9810\n",
            "Epoch 95/200\n",
            "250/250 [==============================] - 2s 7ms/step - loss: 0.0073 - accuracy: 0.9973 - val_loss: 0.1117 - val_accuracy: 0.9730\n",
            "Epoch 96/200\n",
            "250/250 [==============================] - 2s 7ms/step - loss: 0.0054 - accuracy: 0.9985 - val_loss: 0.1213 - val_accuracy: 0.9740\n",
            "Epoch 97/200\n",
            "250/250 [==============================] - 2s 6ms/step - loss: 0.0090 - accuracy: 0.9973 - val_loss: 0.1006 - val_accuracy: 0.9750\n",
            "Epoch 98/200\n",
            "250/250 [==============================] - 2s 6ms/step - loss: 0.0038 - accuracy: 0.9992 - val_loss: 0.1727 - val_accuracy: 0.9610\n",
            "Epoch 99/200\n",
            "250/250 [==============================] - 2s 6ms/step - loss: 0.0091 - accuracy: 0.9970 - val_loss: 0.1116 - val_accuracy: 0.9720\n",
            "Epoch 100/200\n",
            "250/250 [==============================] - 2s 6ms/step - loss: 0.0067 - accuracy: 0.9977 - val_loss: 0.1020 - val_accuracy: 0.9760\n",
            "Epoch 101/200\n",
            "250/250 [==============================] - 2s 7ms/step - loss: 0.0040 - accuracy: 0.9990 - val_loss: 0.0975 - val_accuracy: 0.9800\n",
            "Epoch 102/200\n",
            "250/250 [==============================] - 2s 7ms/step - loss: 0.0039 - accuracy: 0.9992 - val_loss: 0.1107 - val_accuracy: 0.9750\n",
            "Epoch 103/200\n",
            "250/250 [==============================] - 2s 7ms/step - loss: 0.0017 - accuracy: 1.0000 - val_loss: 0.0903 - val_accuracy: 0.9780\n",
            "Epoch 104/200\n",
            "250/250 [==============================] - 2s 6ms/step - loss: 0.0014 - accuracy: 0.9998 - val_loss: 0.0884 - val_accuracy: 0.9820\n",
            "Epoch 105/200\n",
            "250/250 [==============================] - 2s 7ms/step - loss: 0.0031 - accuracy: 0.9992 - val_loss: 0.0768 - val_accuracy: 0.9800\n",
            "Epoch 106/200\n",
            "250/250 [==============================] - 2s 6ms/step - loss: 0.0058 - accuracy: 0.9987 - val_loss: 0.0977 - val_accuracy: 0.9760\n",
            "Epoch 107/200\n",
            "250/250 [==============================] - 2s 6ms/step - loss: 0.0042 - accuracy: 0.9985 - val_loss: 0.1188 - val_accuracy: 0.9770\n",
            "Epoch 108/200\n",
            "250/250 [==============================] - 2s 7ms/step - loss: 0.0039 - accuracy: 0.9990 - val_loss: 0.1209 - val_accuracy: 0.9810\n",
            "Epoch 109/200\n",
            "250/250 [==============================] - 2s 8ms/step - loss: 0.0028 - accuracy: 0.9992 - val_loss: 0.0953 - val_accuracy: 0.9780\n"
          ]
        }
      ]
    },
    {
      "cell_type": "code",
      "source": [
        "modelcnn.save_weights(weightsCNN)"
      ],
      "metadata": {
        "id": "vdQHKEZy4PXL"
      },
      "id": "vdQHKEZy4PXL",
      "execution_count": 22,
      "outputs": []
    },
    {
      "cell_type": "code",
      "source": [
        "modelcnn = get_cnn_model()\n",
        "try:\n",
        "  modelcnn.load_weights(best_weightsCNN)\n",
        "  print(\"Weights Loaded Successfully\")\n",
        "except:\n",
        "  print(\"Weights are not initialized\")"
      ],
      "metadata": {
        "id": "fjA266TE4VGL",
        "colab": {
          "base_uri": "https://localhost:8080/"
        },
        "outputId": "214f227c-4f27-4c66-ec98-fb2c453f1f04"
      },
      "id": "fjA266TE4VGL",
      "execution_count": 23,
      "outputs": [
        {
          "output_type": "stream",
          "name": "stdout",
          "text": [
            "Weights Loaded Successfully\n"
          ]
        }
      ]
    },
    {
      "cell_type": "code",
      "source": [
        "modelcnn.compile(loss='sparse_categorical_crossentropy', optimizer=Adam(learning_rate=1e-4), metrics=['accuracy'])\n",
        "y_predcnn = np.argmax(modelcnn.predict(X_testCNN), axis=1)"
      ],
      "metadata": {
        "id": "p8cVHbQx4kou"
      },
      "id": "p8cVHbQx4kou",
      "execution_count": 24,
      "outputs": []
    },
    {
      "cell_type": "code",
      "source": [
        "conMat(y_test, y_predcnn)\n",
        "\n",
        "accuracycnn = accuracy_score(y_test, y_predcnn)\n",
        "c_reportcnn = classification_report(y_test, y_predcnn)\n",
        "print(\"\\nAccuracy: \", accuracycnn)\n",
        "print(\"\\nClasswise Classification Report: \\n\", c_reportcnn)\n",
        "\n",
        "\n",
        "modelMacCNN = {}\n",
        "modelMacCNN['precision'], modelMacCNN['recall'], modelMacCNN['f1score'], modelMacCNN['support'] = precision_recall_fscore_support(y_test, y_predcnn, average = 'macro')\n",
        "\n",
        "print(\"\\nMacro Average Evaluation Metrics:\")\n",
        "print(\"\\nPrecision:\", modelMacCNN['precision'])\n",
        "print(\"Recall:\", modelMacCNN['recall'])\n",
        "print(\"F1 score:\", modelMacCNN['f1score'])\n",
        "print(\"Support:\", modelMacCNN['support'])"
      ],
      "metadata": {
        "id": "Azz3bt1N41Pk",
        "colab": {
          "base_uri": "https://localhost:8080/",
          "height": 804
        },
        "outputId": "dc4fa9cd-6bc1-4312-e899-6a51b4d17a5a"
      },
      "id": "Azz3bt1N41Pk",
      "execution_count": 25,
      "outputs": [
        {
          "output_type": "stream",
          "name": "stdout",
          "text": [
            "\n",
            "Confusion Matrix: \n"
          ]
        },
        {
          "output_type": "display_data",
          "data": {
            "text/plain": [
              "<Figure size 432x288 with 2 Axes>"
            ],
            "image/png": "[encoded data removed]"
          },
          "metadata": {
            "needs_background": "light"
          }
        },
        {
          "output_type": "stream",
          "name": "stdout",
          "text": [
            "\n",
            "Accuracy:  0.98\n",
            "\n",
            "Classwise Classification Report: \n",
            "               precision    recall  f1-score   support\n",
            "\n",
            "           0       1.00      1.00      1.00       100\n",
            "           1       0.98      0.97      0.97       100\n",
            "           2       0.96      0.98      0.97       100\n",
            "           3       0.98      0.97      0.97       100\n",
            "           4       0.98      0.99      0.99       100\n",
            "           5       0.99      0.98      0.98       100\n",
            "           6       0.99      0.97      0.98       100\n",
            "           7       0.98      1.00      0.99       100\n",
            "           8       0.99      0.98      0.98       100\n",
            "           9       0.95      0.96      0.96       100\n",
            "\n",
            "    accuracy                           0.98      1000\n",
            "   macro avg       0.98      0.98      0.98      1000\n",
            "weighted avg       0.98      0.98      0.98      1000\n",
            "\n",
            "\n",
            "Macro Average Evaluation Metrics:\n",
            "\n",
            "Precision: 0.9801059397656452\n",
            "Recall: 0.9800000000000001\n",
            "F1 score: 0.9800090516814375\n",
            "Support: None\n"
          ]
        }
      ]
    },
    {
      "cell_type": "markdown",
      "id": "b381fc56",
      "metadata": {
        "id": "b381fc56"
      },
      "source": [
        "# 4- Data Normalization\n",
        "* Now normalize the train and test images by dividing them with 255.0\n",
        "* This will convert the image pixel values between 0 and 1\n",
        "* Repeat Task 2 and 3 again on this normalized data"
      ]
    },
    {
      "cell_type": "code",
      "source": [
        "from sklearn.preprocessing import MinMaxScaler"
      ],
      "metadata": {
        "id": "dieXo9Wo9Oxk"
      },
      "id": "dieXo9Wo9Oxk",
      "execution_count": 26,
      "outputs": []
    },
    {
      "cell_type": "markdown",
      "source": [
        "**Task 4 Part 2**\n"
      ],
      "metadata": {
        "id": "BslZPSpeR3wD"
      },
      "id": "BslZPSpeR3wD"
    },
    {
      "cell_type": "code",
      "source": [
        "checkpointerNorm = ModelCheckpoint(monitor = 'val_loss', mode = 'min', filepath = best_weightsNorm, save_best_only = True)\n",
        "earlyStoppingNorm = EarlyStopping(monitor=\"val_loss\",patience=30)"
      ],
      "metadata": {
        "id": "QtcdHp2FQeHy"
      },
      "id": "QtcdHp2FQeHy",
      "execution_count": 27,
      "outputs": []
    },
    {
      "cell_type": "code",
      "execution_count": 28,
      "id": "0d669a3b",
      "metadata": {
        "id": "0d669a3b"
      },
      "outputs": [],
      "source": [
        "scaler = MinMaxScaler((-1,1))\n",
        "scaler2 = MinMaxScaler((-1,1))\n",
        "scaler.fit(X_train)\n",
        "scaler2.fit(X_test)\n",
        "X_trainNorm = scaler.transform(X_train)\n",
        "X_testNorm = scaler2.transform(X_test)"
      ]
    },
    {
      "cell_type": "code",
      "source": [
        "modelNorm = get_model()\n",
        "try:\n",
        "  modelNorm.load_weights(best_weightsNorm)\n",
        "  print(\"Weights Loaded Successfully\")\n",
        "except:\n",
        "  print(\"Weights are not initialized\")"
      ],
      "metadata": {
        "id": "OV3TNg4o-GxI",
        "colab": {
          "base_uri": "https://localhost:8080/"
        },
        "outputId": "dde491b4-c627-4967-8003-369a19369303"
      },
      "id": "OV3TNg4o-GxI",
      "execution_count": 29,
      "outputs": [
        {
          "output_type": "stream",
          "name": "stdout",
          "text": [
            "Weights Loaded Successfully\n"
          ]
        }
      ]
    },
    {
      "cell_type": "code",
      "source": [
        "modelNorm.summary()\n",
        "modelNorm.compile(loss='categorical_crossentropy', optimizer=Adam(learning_rate=1e-4), metrics=['accuracy'])\n",
        "history3 = modelNorm.fit(X_trainNorm, y_trainC, validation_data=(X_testNorm, y_testC), batch_size=64, epochs=200, callbacks=[checkpointerNorm, earlyStoppingNorm])"
      ],
      "metadata": {
        "id": "AzJLEBFD-aRU",
        "colab": {
          "base_uri": "https://localhost:8080/"
        },
        "outputId": "d24e9470-0bc7-4c84-a5d2-78db4210a6bf"
      },
      "id": "AzJLEBFD-aRU",
      "execution_count": 30,
      "outputs": [
        {
          "output_type": "stream",
          "name": "stdout",
          "text": [
            "Model: \"model_4\"\n",
            "_________________________________________________________________\n",
            " Layer (type)                Output Shape              Param #   \n",
            "=================================================================\n",
            " input_5 (InputLayer)        [(None, 784)]             0         \n",
            "                                                                 \n",
            " dense_16 (Dense)            (None, 128)               100480    \n",
            "                                                                 \n",
            " batch_normalization_16 (Bat  (None, 128)              512       \n",
            " chNormalization)                                                \n",
            "                                                                 \n",
            " dropout_4 (Dropout)         (None, 128)               0         \n",
            "                                                                 \n",
            " dense_17 (Dense)            (None, 64)                8256      \n",
            "                                                                 \n",
            " batch_normalization_17 (Bat  (None, 64)               256       \n",
            " chNormalization)                                                \n",
            "                                                                 \n",
            " dropout_5 (Dropout)         (None, 64)                0         \n",
            "                                                                 \n",
            " dense_18 (Dense)            (None, 64)                4160      \n",
            "                                                                 \n",
            " batch_normalization_18 (Bat  (None, 64)               256       \n",
            " chNormalization)                                                \n",
            "                                                                 \n",
            " dense_19 (Dense)            (None, 10)                650       \n",
            "                                                                 \n",
            "=================================================================\n",
            "Total params: 114,570\n",
            "Trainable params: 114,058\n",
            "Non-trainable params: 512\n",
            "_________________________________________________________________\n",
            "Epoch 1/200\n",
            "63/63 [==============================] - 1s 10ms/step - loss: 0.2391 - accuracy: 0.9243 - val_loss: 0.2454 - val_accuracy: 0.9300\n",
            "Epoch 2/200\n",
            "63/63 [==============================] - 0s 6ms/step - loss: 0.2226 - accuracy: 0.9340 - val_loss: 0.2470 - val_accuracy: 0.9340\n",
            "Epoch 3/200\n",
            "63/63 [==============================] - 0s 7ms/step - loss: 0.2284 - accuracy: 0.9293 - val_loss: 0.2447 - val_accuracy: 0.9300\n",
            "Epoch 4/200\n",
            "63/63 [==============================] - 0s 6ms/step - loss: 0.2373 - accuracy: 0.9262 - val_loss: 0.2491 - val_accuracy: 0.9340\n",
            "Epoch 5/200\n",
            "63/63 [==============================] - 0s 7ms/step - loss: 0.2326 - accuracy: 0.9277 - val_loss: 0.2387 - val_accuracy: 0.9330\n",
            "Epoch 6/200\n",
            "63/63 [==============================] - 0s 6ms/step - loss: 0.2330 - accuracy: 0.9295 - val_loss: 0.2419 - val_accuracy: 0.9360\n",
            "Epoch 7/200\n",
            "63/63 [==============================] - 0s 5ms/step - loss: 0.2272 - accuracy: 0.9293 - val_loss: 0.2401 - val_accuracy: 0.9330\n",
            "Epoch 8/200\n",
            "63/63 [==============================] - 0s 6ms/step - loss: 0.2181 - accuracy: 0.9345 - val_loss: 0.2421 - val_accuracy: 0.9330\n",
            "Epoch 9/200\n",
            "63/63 [==============================] - 0s 7ms/step - loss: 0.2060 - accuracy: 0.9330 - val_loss: 0.2379 - val_accuracy: 0.9370\n",
            "Epoch 10/200\n",
            "63/63 [==============================] - 0s 6ms/step - loss: 0.2278 - accuracy: 0.9293 - val_loss: 0.2492 - val_accuracy: 0.9290\n",
            "Epoch 11/200\n",
            "63/63 [==============================] - 0s 5ms/step - loss: 0.2164 - accuracy: 0.9333 - val_loss: 0.2485 - val_accuracy: 0.9370\n",
            "Epoch 12/200\n",
            "63/63 [==============================] - 0s 5ms/step - loss: 0.2202 - accuracy: 0.9300 - val_loss: 0.2426 - val_accuracy: 0.9370\n",
            "Epoch 13/200\n",
            "63/63 [==============================] - 0s 7ms/step - loss: 0.2163 - accuracy: 0.9275 - val_loss: 0.2331 - val_accuracy: 0.9360\n",
            "Epoch 14/200\n",
            "63/63 [==============================] - 0s 6ms/step - loss: 0.2094 - accuracy: 0.9355 - val_loss: 0.2353 - val_accuracy: 0.9370\n",
            "Epoch 15/200\n",
            "63/63 [==============================] - 0s 6ms/step - loss: 0.1987 - accuracy: 0.9365 - val_loss: 0.2436 - val_accuracy: 0.9360\n",
            "Epoch 16/200\n",
            "63/63 [==============================] - 0s 6ms/step - loss: 0.2006 - accuracy: 0.9435 - val_loss: 0.2375 - val_accuracy: 0.9390\n",
            "Epoch 17/200\n",
            "63/63 [==============================] - 0s 6ms/step - loss: 0.2093 - accuracy: 0.9317 - val_loss: 0.2423 - val_accuracy: 0.9360\n",
            "Epoch 18/200\n",
            "63/63 [==============================] - 0s 6ms/step - loss: 0.2150 - accuracy: 0.9320 - val_loss: 0.2415 - val_accuracy: 0.9330\n",
            "Epoch 19/200\n",
            "63/63 [==============================] - 0s 6ms/step - loss: 0.2082 - accuracy: 0.9375 - val_loss: 0.2398 - val_accuracy: 0.9360\n",
            "Epoch 20/200\n",
            "63/63 [==============================] - 0s 5ms/step - loss: 0.2153 - accuracy: 0.9290 - val_loss: 0.2389 - val_accuracy: 0.9380\n",
            "Epoch 21/200\n",
            "63/63 [==============================] - 0s 5ms/step - loss: 0.1961 - accuracy: 0.9383 - val_loss: 0.2463 - val_accuracy: 0.9340\n",
            "Epoch 22/200\n",
            "63/63 [==============================] - 0s 5ms/step - loss: 0.2043 - accuracy: 0.9370 - val_loss: 0.2408 - val_accuracy: 0.9380\n",
            "Epoch 23/200\n",
            "63/63 [==============================] - 0s 6ms/step - loss: 0.2031 - accuracy: 0.9340 - val_loss: 0.2452 - val_accuracy: 0.9360\n",
            "Epoch 24/200\n",
            "63/63 [==============================] - 0s 6ms/step - loss: 0.1936 - accuracy: 0.9360 - val_loss: 0.2516 - val_accuracy: 0.9360\n",
            "Epoch 25/200\n",
            "63/63 [==============================] - 0s 6ms/step - loss: 0.1809 - accuracy: 0.9440 - val_loss: 0.2518 - val_accuracy: 0.9350\n",
            "Epoch 26/200\n",
            "63/63 [==============================] - 0s 5ms/step - loss: 0.2088 - accuracy: 0.9325 - val_loss: 0.2439 - val_accuracy: 0.9380\n",
            "Epoch 27/200\n",
            "63/63 [==============================] - 0s 6ms/step - loss: 0.1981 - accuracy: 0.9380 - val_loss: 0.2587 - val_accuracy: 0.9290\n",
            "Epoch 28/200\n",
            "63/63 [==============================] - 0s 5ms/step - loss: 0.2051 - accuracy: 0.9323 - val_loss: 0.2448 - val_accuracy: 0.9370\n",
            "Epoch 29/200\n",
            "63/63 [==============================] - 0s 6ms/step - loss: 0.1983 - accuracy: 0.9375 - val_loss: 0.2525 - val_accuracy: 0.9360\n",
            "Epoch 30/200\n",
            "63/63 [==============================] - 0s 6ms/step - loss: 0.1989 - accuracy: 0.9362 - val_loss: 0.2541 - val_accuracy: 0.9330\n",
            "Epoch 31/200\n",
            "63/63 [==============================] - 0s 5ms/step - loss: 0.1966 - accuracy: 0.9362 - val_loss: 0.2489 - val_accuracy: 0.9360\n",
            "Epoch 32/200\n",
            "63/63 [==============================] - 0s 6ms/step - loss: 0.2022 - accuracy: 0.9392 - val_loss: 0.2513 - val_accuracy: 0.9350\n",
            "Epoch 33/200\n",
            "63/63 [==============================] - 0s 6ms/step - loss: 0.1828 - accuracy: 0.9440 - val_loss: 0.2429 - val_accuracy: 0.9370\n",
            "Epoch 34/200\n",
            "63/63 [==============================] - 0s 5ms/step - loss: 0.1953 - accuracy: 0.9408 - val_loss: 0.2595 - val_accuracy: 0.9320\n",
            "Epoch 35/200\n",
            "63/63 [==============================] - 0s 6ms/step - loss: 0.1980 - accuracy: 0.9408 - val_loss: 0.2476 - val_accuracy: 0.9360\n",
            "Epoch 36/200\n",
            "63/63 [==============================] - 0s 6ms/step - loss: 0.1972 - accuracy: 0.9415 - val_loss: 0.2510 - val_accuracy: 0.9370\n",
            "Epoch 37/200\n",
            "63/63 [==============================] - 0s 6ms/step - loss: 0.1830 - accuracy: 0.9455 - val_loss: 0.2515 - val_accuracy: 0.9370\n",
            "Epoch 38/200\n",
            "63/63 [==============================] - 0s 6ms/step - loss: 0.1882 - accuracy: 0.9395 - val_loss: 0.2450 - val_accuracy: 0.9420\n",
            "Epoch 39/200\n",
            "63/63 [==============================] - 0s 6ms/step - loss: 0.1733 - accuracy: 0.9415 - val_loss: 0.2478 - val_accuracy: 0.9370\n",
            "Epoch 40/200\n",
            "63/63 [==============================] - 0s 6ms/step - loss: 0.1827 - accuracy: 0.9400 - val_loss: 0.2520 - val_accuracy: 0.9370\n",
            "Epoch 41/200\n",
            "63/63 [==============================] - 0s 5ms/step - loss: 0.1764 - accuracy: 0.9425 - val_loss: 0.2447 - val_accuracy: 0.9350\n",
            "Epoch 42/200\n",
            "63/63 [==============================] - 0s 6ms/step - loss: 0.1695 - accuracy: 0.9457 - val_loss: 0.2427 - val_accuracy: 0.9370\n",
            "Epoch 43/200\n",
            "63/63 [==============================] - 0s 6ms/step - loss: 0.1879 - accuracy: 0.9385 - val_loss: 0.2402 - val_accuracy: 0.9370\n"
          ]
        }
      ]
    },
    {
      "cell_type": "code",
      "source": [
        "modelNorm.save_weights(weightsNorm)"
      ],
      "metadata": {
        "id": "_-IMLLQA-9Cs"
      },
      "id": "_-IMLLQA-9Cs",
      "execution_count": 31,
      "outputs": []
    },
    {
      "cell_type": "code",
      "source": [
        "modelNorm = get_model()\n",
        "try:\n",
        "  modelNorm.load_weights(best_weightsNorm)\n",
        "  print(\"Weights Loaded Successfully\")\n",
        "except:\n",
        "  print(\"Weights are not initialized\")"
      ],
      "metadata": {
        "id": "Gn3J7X8o_HkJ",
        "colab": {
          "base_uri": "https://localhost:8080/"
        },
        "outputId": "0e27879a-764b-488b-b1fc-53c087b1b4ce"
      },
      "id": "Gn3J7X8o_HkJ",
      "execution_count": 32,
      "outputs": [
        {
          "output_type": "stream",
          "name": "stdout",
          "text": [
            "Weights Loaded Successfully\n"
          ]
        }
      ]
    },
    {
      "cell_type": "code",
      "source": [
        "modelNorm.compile(loss='categorical_crossentropy', optimizer=Adam(learning_rate=1e-4), metrics=['accuracy'])\n",
        "y_predNorm = np.argmax(modelNorm.predict(X_testNorm), axis=1)"
      ],
      "metadata": {
        "id": "mKqXCTY8_SXD"
      },
      "id": "mKqXCTY8_SXD",
      "execution_count": 33,
      "outputs": []
    },
    {
      "cell_type": "code",
      "source": [
        "conMat(y_test, y_predNorm)\n",
        "\n",
        "accuracy3 = accuracy_score(y_test, y_predNorm)\n",
        "c_report3 = classification_report(y_test, y_predNorm)\n",
        "print(\"\\nAccuracy: \", accuracy3)\n",
        "print(\"\\nClasswise Classification Report: \\n\", c_report3)\n",
        "\n",
        "\n",
        "modelMacNorm = {}\n",
        "modelMacNorm['precision'], modelMacNorm['recall'], modelMacNorm['f1score'], modelMacNorm['support'] = precision_recall_fscore_support(y_test, y_predNorm, average = 'macro')\n",
        "\n",
        "print(\"\\nMacro Average Evaluation Metrics Normalized:\")\n",
        "print(\"\\nPrecision:\", modelMacNorm['precision'])\n",
        "print(\"Recall:\", modelMacNorm['recall'])\n",
        "print(\"F1 score:\", modelMacNorm['f1score'])\n",
        "print(\"Support:\", modelMacNorm['support'])"
      ],
      "metadata": {
        "id": "RcWCR99D_ggz",
        "colab": {
          "base_uri": "https://localhost:8080/",
          "height": 804
        },
        "outputId": "76ddec3f-e79e-47c5-98f3-ada3b41cf5d6"
      },
      "id": "RcWCR99D_ggz",
      "execution_count": 34,
      "outputs": [
        {
          "output_type": "stream",
          "name": "stdout",
          "text": [
            "\n",
            "Confusion Matrix: \n"
          ]
        },
        {
          "output_type": "display_data",
          "data": {
            "text/plain": [
              "<Figure size 432x288 with 2 Axes>"
            ],
            "image/png": "[encoded data removed]"
          },
          "metadata": {
            "needs_background": "light"
          }
        },
        {
          "output_type": "stream",
          "name": "stdout",
          "text": [
            "\n",
            "Accuracy:  0.936\n",
            "\n",
            "Classwise Classification Report: \n",
            "               precision    recall  f1-score   support\n",
            "\n",
            "           0       0.98      1.00      0.99       100\n",
            "           1       0.93      0.95      0.94       100\n",
            "           2       0.95      0.93      0.94       100\n",
            "           3       0.91      0.94      0.93       100\n",
            "           4       0.93      0.93      0.93       100\n",
            "           5       0.92      0.91      0.91       100\n",
            "           6       0.90      0.95      0.93       100\n",
            "           7       0.99      0.93      0.96       100\n",
            "           8       0.96      0.90      0.93       100\n",
            "           9       0.89      0.92      0.91       100\n",
            "\n",
            "    accuracy                           0.94      1000\n",
            "   macro avg       0.94      0.94      0.94      1000\n",
            "weighted avg       0.94      0.94      0.94      1000\n",
            "\n",
            "\n",
            "Macro Average Evaluation Metrics Normalized:\n",
            "\n",
            "Precision: 0.9367331875029656\n",
            "Recall: 0.9359999999999999\n",
            "F1 score: 0.9360599394730427\n",
            "Support: None\n"
          ]
        }
      ]
    },
    {
      "cell_type": "markdown",
      "source": [
        "**Task 4 Part 3**\n"
      ],
      "metadata": {
        "id": "x8LKhHKQSDpp"
      },
      "id": "x8LKhHKQSDpp"
    },
    {
      "cell_type": "code",
      "source": [
        "X_trainCNN_Norm=[]\n",
        "X_testCNN_Norm=[]\n",
        "for i in range(len(X_trainNorm)):\n",
        "  X_trainCNN_Norm.append(X_trainNorm[i].reshape((28,28,1)))\n",
        "for i in range(len(X_testNorm)):\n",
        "  X_testCNN_Norm.append(X_testNorm[i].reshape((28,28,1)))\n",
        "\n",
        "X_trainCNN_Norm=np.array(X_trainCNN_Norm)\n",
        "X_testCNN_Norm=np.array(X_testCNN_Norm)"
      ],
      "metadata": {
        "id": "b58662cWSwc1"
      },
      "id": "b58662cWSwc1",
      "execution_count": 35,
      "outputs": []
    },
    {
      "cell_type": "code",
      "source": [
        "checkpointerCNN_Norm = ModelCheckpoint(monitor = 'val_loss', mode = 'min', filepath = best_weightsCNN_Norm, save_best_only = True)\n",
        "earlyStoppingCNN_Norm = EarlyStopping(monitor=\"val_loss\",patience=30)"
      ],
      "metadata": {
        "id": "BoPYr8EnTm4J"
      },
      "id": "BoPYr8EnTm4J",
      "execution_count": 36,
      "outputs": []
    },
    {
      "cell_type": "code",
      "source": [
        "modelcnnNorm = get_cnn_model()\n",
        "try:\n",
        "  modelcnnNorm.load_weights(best_weightsCNN_Norm)\n",
        "  print(\"Weights Loaded Successfully\")\n",
        "except:\n",
        "  print(\"Weights are not initialized\")"
      ],
      "metadata": {
        "id": "JQ7jgs1TTxNF",
        "colab": {
          "base_uri": "https://localhost:8080/"
        },
        "outputId": "c0f08b69-f36d-4f52-ea3d-8e93263699ee"
      },
      "id": "JQ7jgs1TTxNF",
      "execution_count": 37,
      "outputs": [
        {
          "output_type": "stream",
          "name": "stdout",
          "text": [
            "Weights Loaded Successfully\n"
          ]
        }
      ]
    },
    {
      "cell_type": "code",
      "source": [
        "modelcnnNorm.summary()\n",
        "modelcnnNorm.compile(loss='sparse_categorical_crossentropy', optimizer=Adam(learning_rate=1e-4), metrics=['accuracy'])\n",
        "history4 = modelcnnNorm.fit(X_trainCNN_Norm, y_train, validation_data=(X_testCNN_Norm, y_test), batch_size=16, epochs=200, callbacks=[checkpointerCNN_Norm, earlyStoppingCNN_Norm])"
      ],
      "metadata": {
        "id": "eT0BKS64T9nt",
        "colab": {
          "base_uri": "https://localhost:8080/"
        },
        "outputId": "9208cd91-3369-4e67-a7f4-93f974c7420a"
      },
      "id": "eT0BKS64T9nt",
      "execution_count": 38,
      "outputs": [
        {
          "output_type": "stream",
          "name": "stdout",
          "text": [
            "Model: \"model_6\"\n",
            "_________________________________________________________________\n",
            " Layer (type)                Output Shape              Param #   \n",
            "=================================================================\n",
            " input_7 (InputLayer)        [(None, 28, 28, 1)]       0         \n",
            "                                                                 \n",
            " conv2d_4 (Conv2D)           (None, 28, 28, 64)        640       \n",
            "                                                                 \n",
            " batch_normalization_22 (Bat  (None, 28, 28, 64)       256       \n",
            " chNormalization)                                                \n",
            "                                                                 \n",
            " max_pooling2d_4 (MaxPooling  (None, 28, 28, 64)       0         \n",
            " 2D)                                                             \n",
            "                                                                 \n",
            " conv2d_5 (Conv2D)           (None, 28, 28, 64)        36928     \n",
            "                                                                 \n",
            " batch_normalization_23 (Bat  (None, 28, 28, 64)       256       \n",
            " chNormalization)                                                \n",
            "                                                                 \n",
            " max_pooling2d_5 (MaxPooling  (None, 14, 14, 64)       0         \n",
            " 2D)                                                             \n",
            "                                                                 \n",
            " flatten_2 (Flatten)         (None, 12544)             0         \n",
            "                                                                 \n",
            " dense_24 (Dense)            (None, 128)               1605760   \n",
            "                                                                 \n",
            " batch_normalization_24 (Bat  (None, 128)              512       \n",
            " chNormalization)                                                \n",
            "                                                                 \n",
            " dense_25 (Dense)            (None, 64)                8256      \n",
            "                                                                 \n",
            " batch_normalization_25 (Bat  (None, 64)               256       \n",
            " chNormalization)                                                \n",
            "                                                                 \n",
            " dense_26 (Dense)            (None, 64)                4160      \n",
            "                                                                 \n",
            " batch_normalization_26 (Bat  (None, 64)               256       \n",
            " chNormalization)                                                \n",
            "                                                                 \n",
            " dense_27 (Dense)            (None, 10)                650       \n",
            "                                                                 \n",
            "=================================================================\n",
            "Total params: 1,657,930\n",
            "Trainable params: 1,657,162\n",
            "Non-trainable params: 768\n",
            "_________________________________________________________________\n",
            "Epoch 1/200\n",
            "250/250 [==============================] - 3s 9ms/step - loss: 0.0252 - accuracy: 0.9945 - val_loss: 0.1100 - val_accuracy: 0.9620\n",
            "Epoch 2/200\n",
            "250/250 [==============================] - 2s 7ms/step - loss: 0.0203 - accuracy: 0.9948 - val_loss: 0.1460 - val_accuracy: 0.9550\n",
            "Epoch 3/200\n",
            "250/250 [==============================] - 2s 7ms/step - loss: 0.0190 - accuracy: 0.9965 - val_loss: 0.0873 - val_accuracy: 0.9750\n",
            "Epoch 4/200\n",
            "250/250 [==============================] - 2s 7ms/step - loss: 0.0170 - accuracy: 0.9973 - val_loss: 0.1245 - val_accuracy: 0.9680\n",
            "Epoch 5/200\n",
            "250/250 [==============================] - 2s 7ms/step - loss: 0.0220 - accuracy: 0.9942 - val_loss: 0.2017 - val_accuracy: 0.9450\n",
            "Epoch 6/200\n",
            "250/250 [==============================] - 2s 7ms/step - loss: 0.0130 - accuracy: 0.9977 - val_loss: 0.0979 - val_accuracy: 0.9750\n",
            "Epoch 7/200\n",
            "250/250 [==============================] - 2s 6ms/step - loss: 0.0229 - accuracy: 0.9933 - val_loss: 0.3169 - val_accuracy: 0.9180\n",
            "Epoch 8/200\n",
            "250/250 [==============================] - 2s 7ms/step - loss: 0.0256 - accuracy: 0.9933 - val_loss: 0.2251 - val_accuracy: 0.9450\n",
            "Epoch 9/200\n",
            "250/250 [==============================] - 2s 7ms/step - loss: 0.0169 - accuracy: 0.9973 - val_loss: 0.0882 - val_accuracy: 0.9720\n",
            "Epoch 10/200\n",
            "250/250 [==============================] - 2s 7ms/step - loss: 0.0167 - accuracy: 0.9967 - val_loss: 0.1493 - val_accuracy: 0.9580\n",
            "Epoch 11/200\n",
            "250/250 [==============================] - 2s 6ms/step - loss: 0.0156 - accuracy: 0.9967 - val_loss: 0.1005 - val_accuracy: 0.9690\n",
            "Epoch 12/200\n",
            "250/250 [==============================] - 2s 7ms/step - loss: 0.0194 - accuracy: 0.9955 - val_loss: 0.1154 - val_accuracy: 0.9680\n",
            "Epoch 13/200\n",
            "250/250 [==============================] - 2s 6ms/step - loss: 0.0194 - accuracy: 0.9945 - val_loss: 0.1407 - val_accuracy: 0.9640\n",
            "Epoch 14/200\n",
            "250/250 [==============================] - 2s 7ms/step - loss: 0.0179 - accuracy: 0.9952 - val_loss: 0.1568 - val_accuracy: 0.9470\n",
            "Epoch 15/200\n",
            "250/250 [==============================] - 2s 7ms/step - loss: 0.0113 - accuracy: 0.9977 - val_loss: 0.1041 - val_accuracy: 0.9710\n",
            "Epoch 16/200\n",
            "250/250 [==============================] - 2s 7ms/step - loss: 0.0136 - accuracy: 0.9967 - val_loss: 0.0931 - val_accuracy: 0.9760\n",
            "Epoch 17/200\n",
            "250/250 [==============================] - 2s 6ms/step - loss: 0.0254 - accuracy: 0.9925 - val_loss: 0.1246 - val_accuracy: 0.9630\n",
            "Epoch 18/200\n",
            "250/250 [==============================] - 2s 6ms/step - loss: 0.0238 - accuracy: 0.9925 - val_loss: 0.1207 - val_accuracy: 0.9640\n",
            "Epoch 19/200\n",
            "250/250 [==============================] - 2s 7ms/step - loss: 0.0120 - accuracy: 0.9973 - val_loss: 0.0895 - val_accuracy: 0.9760\n",
            "Epoch 20/200\n",
            "250/250 [==============================] - 2s 8ms/step - loss: 0.0111 - accuracy: 0.9977 - val_loss: 0.0815 - val_accuracy: 0.9780\n",
            "Epoch 21/200\n",
            "250/250 [==============================] - 2s 7ms/step - loss: 0.0080 - accuracy: 0.9980 - val_loss: 0.1097 - val_accuracy: 0.9760\n",
            "Epoch 22/200\n",
            "250/250 [==============================] - 2s 7ms/step - loss: 0.0167 - accuracy: 0.9958 - val_loss: 0.1819 - val_accuracy: 0.9510\n",
            "Epoch 23/200\n",
            "250/250 [==============================] - 2s 6ms/step - loss: 0.0072 - accuracy: 0.9990 - val_loss: 0.0946 - val_accuracy: 0.9770\n",
            "Epoch 24/200\n",
            "250/250 [==============================] - 2s 7ms/step - loss: 0.0155 - accuracy: 0.9955 - val_loss: 0.0881 - val_accuracy: 0.9710\n",
            "Epoch 25/200\n",
            "250/250 [==============================] - 2s 6ms/step - loss: 0.0227 - accuracy: 0.9933 - val_loss: 0.2120 - val_accuracy: 0.9480\n",
            "Epoch 26/200\n",
            "250/250 [==============================] - 2s 6ms/step - loss: 0.0127 - accuracy: 0.9960 - val_loss: 0.0854 - val_accuracy: 0.9760\n",
            "Epoch 27/200\n",
            "250/250 [==============================] - 2s 6ms/step - loss: 0.0134 - accuracy: 0.9975 - val_loss: 0.2587 - val_accuracy: 0.9280\n",
            "Epoch 28/200\n",
            "250/250 [==============================] - 2s 6ms/step - loss: 0.0182 - accuracy: 0.9948 - val_loss: 0.1299 - val_accuracy: 0.9580\n",
            "Epoch 29/200\n",
            "250/250 [==============================] - 2s 7ms/step - loss: 0.0141 - accuracy: 0.9952 - val_loss: 0.1487 - val_accuracy: 0.9690\n",
            "Epoch 30/200\n",
            "250/250 [==============================] - 2s 7ms/step - loss: 0.0154 - accuracy: 0.9955 - val_loss: 0.1320 - val_accuracy: 0.9710\n",
            "Epoch 31/200\n",
            "250/250 [==============================] - 2s 7ms/step - loss: 0.0173 - accuracy: 0.9962 - val_loss: 0.1296 - val_accuracy: 0.9730\n",
            "Epoch 32/200\n",
            "250/250 [==============================] - 2s 6ms/step - loss: 0.0093 - accuracy: 0.9983 - val_loss: 0.1097 - val_accuracy: 0.9770\n",
            "Epoch 33/200\n",
            "250/250 [==============================] - 2s 6ms/step - loss: 0.0156 - accuracy: 0.9960 - val_loss: 0.1085 - val_accuracy: 0.9750\n",
            "Epoch 34/200\n",
            "250/250 [==============================] - 2s 7ms/step - loss: 0.0129 - accuracy: 0.9955 - val_loss: 0.1329 - val_accuracy: 0.9670\n",
            "Epoch 35/200\n",
            "250/250 [==============================] - 2s 6ms/step - loss: 0.0108 - accuracy: 0.9970 - val_loss: 0.0956 - val_accuracy: 0.9760\n",
            "Epoch 36/200\n",
            "250/250 [==============================] - 2s 7ms/step - loss: 0.0067 - accuracy: 0.9990 - val_loss: 0.0931 - val_accuracy: 0.9750\n",
            "Epoch 37/200\n",
            "250/250 [==============================] - 2s 8ms/step - loss: 0.0098 - accuracy: 0.9975 - val_loss: 0.0785 - val_accuracy: 0.9760\n",
            "Epoch 38/200\n",
            "250/250 [==============================] - 2s 7ms/step - loss: 0.0073 - accuracy: 0.9980 - val_loss: 0.0701 - val_accuracy: 0.9780\n",
            "Epoch 39/200\n",
            "250/250 [==============================] - 2s 7ms/step - loss: 0.0121 - accuracy: 0.9967 - val_loss: 0.2235 - val_accuracy: 0.9410\n",
            "Epoch 40/200\n",
            "250/250 [==============================] - 2s 7ms/step - loss: 0.0090 - accuracy: 0.9973 - val_loss: 0.0962 - val_accuracy: 0.9740\n",
            "Epoch 41/200\n",
            "250/250 [==============================] - 2s 6ms/step - loss: 0.0080 - accuracy: 0.9983 - val_loss: 0.1124 - val_accuracy: 0.9710\n",
            "Epoch 42/200\n",
            "250/250 [==============================] - 2s 6ms/step - loss: 0.0079 - accuracy: 0.9975 - val_loss: 0.1529 - val_accuracy: 0.9610\n",
            "Epoch 43/200\n",
            "250/250 [==============================] - 2s 7ms/step - loss: 0.0133 - accuracy: 0.9967 - val_loss: 0.1094 - val_accuracy: 0.9740\n",
            "Epoch 44/200\n",
            "250/250 [==============================] - 2s 6ms/step - loss: 0.0090 - accuracy: 0.9977 - val_loss: 0.0941 - val_accuracy: 0.9770\n",
            "Epoch 45/200\n",
            "250/250 [==============================] - 2s 7ms/step - loss: 0.0076 - accuracy: 0.9977 - val_loss: 0.0782 - val_accuracy: 0.9780\n",
            "Epoch 46/200\n",
            "250/250 [==============================] - 2s 6ms/step - loss: 0.0099 - accuracy: 0.9973 - val_loss: 0.1074 - val_accuracy: 0.9710\n",
            "Epoch 47/200\n",
            "250/250 [==============================] - 2s 6ms/step - loss: 0.0087 - accuracy: 0.9973 - val_loss: 0.0945 - val_accuracy: 0.9770\n",
            "Epoch 48/200\n",
            "250/250 [==============================] - 2s 6ms/step - loss: 0.0048 - accuracy: 0.9985 - val_loss: 0.0704 - val_accuracy: 0.9820\n",
            "Epoch 49/200\n",
            "250/250 [==============================] - 2s 6ms/step - loss: 0.0120 - accuracy: 0.9975 - val_loss: 0.1369 - val_accuracy: 0.9650\n",
            "Epoch 50/200\n",
            "250/250 [==============================] - 2s 7ms/step - loss: 0.0178 - accuracy: 0.9955 - val_loss: 0.1159 - val_accuracy: 0.9720\n",
            "Epoch 51/200\n",
            "250/250 [==============================] - 2s 6ms/step - loss: 0.0056 - accuracy: 0.9987 - val_loss: 0.0990 - val_accuracy: 0.9770\n",
            "Epoch 52/200\n",
            "250/250 [==============================] - 2s 6ms/step - loss: 0.0130 - accuracy: 0.9952 - val_loss: 0.1746 - val_accuracy: 0.9540\n",
            "Epoch 53/200\n",
            "250/250 [==============================] - 2s 7ms/step - loss: 0.0111 - accuracy: 0.9973 - val_loss: 0.1001 - val_accuracy: 0.9740\n",
            "Epoch 54/200\n",
            "250/250 [==============================] - 2s 6ms/step - loss: 0.0079 - accuracy: 0.9990 - val_loss: 0.1293 - val_accuracy: 0.9650\n",
            "Epoch 55/200\n",
            "250/250 [==============================] - 2s 6ms/step - loss: 0.0150 - accuracy: 0.9958 - val_loss: 0.1140 - val_accuracy: 0.9740\n",
            "Epoch 56/200\n",
            "250/250 [==============================] - 2s 6ms/step - loss: 0.0126 - accuracy: 0.9965 - val_loss: 0.0958 - val_accuracy: 0.9760\n",
            "Epoch 57/200\n",
            "250/250 [==============================] - 2s 6ms/step - loss: 0.0061 - accuracy: 0.9985 - val_loss: 0.0797 - val_accuracy: 0.9760\n",
            "Epoch 58/200\n",
            "250/250 [==============================] - 2s 6ms/step - loss: 0.0057 - accuracy: 0.9983 - val_loss: 0.0809 - val_accuracy: 0.9750\n",
            "Epoch 59/200\n",
            "250/250 [==============================] - 2s 6ms/step - loss: 0.0123 - accuracy: 0.9962 - val_loss: 0.1177 - val_accuracy: 0.9710\n",
            "Epoch 60/200\n",
            "250/250 [==============================] - 2s 6ms/step - loss: 0.0243 - accuracy: 0.9920 - val_loss: 0.1797 - val_accuracy: 0.9520\n",
            "Epoch 61/200\n",
            "250/250 [==============================] - 2s 6ms/step - loss: 0.0092 - accuracy: 0.9975 - val_loss: 0.1211 - val_accuracy: 0.9710\n",
            "Epoch 62/200\n",
            "250/250 [==============================] - 2s 6ms/step - loss: 0.0056 - accuracy: 0.9992 - val_loss: 0.0830 - val_accuracy: 0.9800\n",
            "Epoch 63/200\n",
            "250/250 [==============================] - 2s 7ms/step - loss: 0.0037 - accuracy: 0.9992 - val_loss: 0.1170 - val_accuracy: 0.9770\n",
            "Epoch 64/200\n",
            "250/250 [==============================] - 2s 6ms/step - loss: 0.0056 - accuracy: 0.9980 - val_loss: 0.1267 - val_accuracy: 0.9730\n",
            "Epoch 65/200\n",
            "250/250 [==============================] - 2s 6ms/step - loss: 0.0057 - accuracy: 0.9992 - val_loss: 0.0797 - val_accuracy: 0.9820\n",
            "Epoch 66/200\n",
            "250/250 [==============================] - 2s 8ms/step - loss: 0.0039 - accuracy: 0.9992 - val_loss: 0.0895 - val_accuracy: 0.9790\n",
            "Epoch 67/200\n",
            "250/250 [==============================] - 2s 9ms/step - loss: 0.0033 - accuracy: 0.9990 - val_loss: 0.0969 - val_accuracy: 0.9780\n",
            "Epoch 68/200\n",
            "250/250 [==============================] - 2s 9ms/step - loss: 0.0033 - accuracy: 0.9990 - val_loss: 0.1205 - val_accuracy: 0.9680\n"
          ]
        }
      ]
    },
    {
      "cell_type": "code",
      "source": [
        "modelcnnNorm.save_weights(weightsCNN_Norm)"
      ],
      "metadata": {
        "id": "XMH1v8WBUsKV"
      },
      "id": "XMH1v8WBUsKV",
      "execution_count": 39,
      "outputs": []
    },
    {
      "cell_type": "code",
      "source": [
        "modelcnnNorm = get_cnn_model()\n",
        "try:\n",
        "  modelcnnNorm.load_weights(best_weightsCNN_Norm)\n",
        "  print(\"Weights Loaded Successfully\")\n",
        "except:\n",
        "  print(\"Weights are not initialized\")"
      ],
      "metadata": {
        "id": "aBnShXA_U49t",
        "colab": {
          "base_uri": "https://localhost:8080/"
        },
        "outputId": "a63142d9-3d96-4c05-8fa0-83d8033b625c"
      },
      "id": "aBnShXA_U49t",
      "execution_count": 40,
      "outputs": [
        {
          "output_type": "stream",
          "name": "stdout",
          "text": [
            "Weights Loaded Successfully\n"
          ]
        }
      ]
    },
    {
      "cell_type": "code",
      "source": [
        "modelcnnNorm.compile(loss='sparse_categorical_crossentropy', optimizer=Adam(learning_rate=1e-4), metrics=['accuracy'])\n",
        "y_predcnnNorm = np.argmax(modelcnnNorm.predict(X_testCNN_Norm), axis=1)"
      ],
      "metadata": {
        "id": "11cYNBPFVBUC"
      },
      "id": "11cYNBPFVBUC",
      "execution_count": 41,
      "outputs": []
    },
    {
      "cell_type": "code",
      "source": [
        "conMat(y_test, y_predcnnNorm)\n",
        "\n",
        "accuracycnnNorm = accuracy_score(y_test, y_predcnnNorm)\n",
        "c_reportcnnNorm = classification_report(y_test, y_predcnnNorm)\n",
        "print(\"\\nAccuracy: \", accuracycnnNorm)\n",
        "print(\"\\nClasswise Classification Report: \\n\", c_reportcnnNorm)\n",
        "\n",
        "\n",
        "modelMacCNN_Norm = {}\n",
        "modelMacCNN_Norm['precision'], modelMacCNN_Norm['recall'], modelMacCNN_Norm['f1score'], modelMacCNN_Norm['support'] = precision_recall_fscore_support(y_test, y_predcnnNorm, average = 'macro')\n",
        "\n",
        "print(\"\\nMacro Average Evaluation Metrics:\")\n",
        "print(\"\\nPrecision:\", modelMacCNN_Norm['precision'])\n",
        "print(\"Recall:\", modelMacCNN_Norm['recall'])\n",
        "print(\"F1 score:\", modelMacCNN_Norm['f1score'])\n",
        "print(\"Support:\", modelMacCNN_Norm['support'])"
      ],
      "metadata": {
        "id": "vRWrtMMkVJFL",
        "colab": {
          "base_uri": "https://localhost:8080/",
          "height": 804
        },
        "outputId": "3c0ccb67-92eb-4bc8-8b1e-db9fc68c1af7"
      },
      "id": "vRWrtMMkVJFL",
      "execution_count": 42,
      "outputs": [
        {
          "output_type": "stream",
          "name": "stdout",
          "text": [
            "\n",
            "Confusion Matrix: \n"
          ]
        },
        {
          "output_type": "display_data",
          "data": {
            "text/plain": [
              "<Figure size 432x288 with 2 Axes>"
            ],
            "image/png": "[encoded data removed]"
          },
          "metadata": {
            "needs_background": "light"
          }
        },
        {
          "output_type": "stream",
          "name": "stdout",
          "text": [
            "\n",
            "Accuracy:  0.978\n",
            "\n",
            "Classwise Classification Report: \n",
            "               precision    recall  f1-score   support\n",
            "\n",
            "           0       1.00      1.00      1.00       100\n",
            "           1       0.98      0.96      0.97       100\n",
            "           2       0.97      0.99      0.98       100\n",
            "           3       0.98      0.97      0.97       100\n",
            "           4       0.97      0.98      0.98       100\n",
            "           5       0.98      0.99      0.99       100\n",
            "           6       0.99      0.96      0.97       100\n",
            "           7       0.95      0.99      0.97       100\n",
            "           8       1.00      0.99      0.99       100\n",
            "           9       0.96      0.95      0.95       100\n",
            "\n",
            "    accuracy                           0.98      1000\n",
            "   macro avg       0.98      0.98      0.98      1000\n",
            "weighted avg       0.98      0.98      0.98      1000\n",
            "\n",
            "\n",
            "Macro Average Evaluation Metrics:\n",
            "\n",
            "Precision: 0.9781682859500263\n",
            "Recall: 0.978\n",
            "F1 score: 0.9779924634686182\n",
            "Support: None\n"
          ]
        }
      ]
    },
    {
      "cell_type": "markdown",
      "id": "3e592dbd",
      "metadata": {
        "id": "3e592dbd"
      },
      "source": [
        "# 5- Results and Comparisons\n",
        "* Plot macro precision, recall, and f1-score for all four experiments above and compare them via barplots, just like Assignment 1"
      ]
    },
    {
      "cell_type": "code",
      "execution_count": 43,
      "id": "46675c47",
      "metadata": {
        "id": "46675c47",
        "colab": {
          "base_uri": "https://localhost:8080/",
          "height": 284
        },
        "outputId": "5d6263fa-6f21-4804-cfcd-5f2b06378167"
      },
      "outputs": [
        {
          "output_type": "display_data",
          "data": {
            "text/plain": [
              "<Figure size 432x288 with 1 Axes>"
            ],
            "image/png": "[encoded data removed]"
          },
          "metadata": {
            "needs_background": "light"
          }
        }
      ],
      "source": [
        "x_axis = np.arange(3)\n",
        "data1 = np.array([modelMac['precision'], modelMac['recall'], modelMac['f1score']])\n",
        "data2 = np.array([modelMacCNN['precision'], modelMacCNN['recall'], modelMacCNN['f1score']])\n",
        "data3 = np.array([modelMacNorm['precision'], modelMacNorm['recall'], modelMacNorm['f1score']])\n",
        "data4 = np.array([modelMacCNN_Norm['precision'], modelMacCNN_Norm['recall'], modelMacCNN_Norm['f1score']])\n",
        "\n",
        "\n",
        "plt.bar(x_axis - 0.2, data1, color='lightgreen', width=0.2, edgecolor='black')\n",
        "plt.bar(x_axis + 0.0, data2, color='purple', width=0.2, edgecolor='black')\n",
        "plt.bar(x_axis + 0.2, data3, color='teal', width=0.2, edgecolor='black')\n",
        "plt.bar(x_axis + 0.40, data4, color='blue', width=0.2, edgecolor='black')\n",
        "\n",
        "plt.xlabel('Task', fontweight ='bold', fontsize = 15)\n",
        "plt.ylabel('Score', fontweight ='bold', fontsize = 15)\n",
        "plt.xticks(x_axis, ['Precision', 'Recall', 'F1Score'])\n",
        "plt.legend([\"FeeddForward\", \"CNN\", \"NormFeedForward\", \"NormCNN\"])\n",
        "plt.show()"
      ]
    },
    {
      "cell_type": "markdown",
      "id": "a04cc60a",
      "metadata": {
        "id": "a04cc60a"
      },
      "source": [
        "# 6- Discussion\n",
        "\n",
        "* What difference did it make after data normalization? Was the convergence faster or slower? Did it affect the performance of the models?\n",
        "* Why we had to reshape the image from 784 to 28x28x1 when using CNN?\n",
        "* How many optimizers did you try and which one performed the best? By what metric, did you measure the performance?\n",
        "* What was the activation of the last layer in each model?\n",
        "* How many neurons were there in the last (output) layer of each model?\n",
        "* Why labels had to be one-hot encoded?"
      ]
    },
    {
      "cell_type": "markdown",
      "id": "a1508e36",
      "metadata": {
        "id": "a1508e36"
      },
      "source": [
        "Your comments go here...\n",
        "\n",
        "1. There was no major difference detected between both of the training techniques. The results of the performance metrics did increase but only by a little amount. The convergence however, was a little faster and it took a few less epochs to converge after the data normalization.\n",
        "\n",
        "2. A CNN uses more than one dimensions when it comes to training because of the filter that it has to apply on the image data using the maxpooling layer. This is why an image of size 784 was not acceptable and had to be converted into 28x28 for Conv1D and 28x28x1 for Conv2D.\n",
        "\n",
        "3. Used two main optimizer functions. Used SGD first and then Adam with a learning rate of 1e-4. The Adam optimizer performed way better in terms of value loss and accuracy.\n",
        "\n",
        "4. Used categorical crossentropy for the feed forward networks and sparse categorical crossentropy for the CNNs.\n",
        "\n",
        "5. There were 10 output neurons in the last output layer of each model.\n",
        "\n",
        "6. One hot encoding the labels allows the training data to be made more useful with more information available for the model to train on. Moreover, this data can be easily rescaled because of one hot encoding. Lastly, one hot encoding allows the model to predict better results instead of using single labels.\n",
        "\n",
        "\n",
        "\n",
        "\n",
        "\n"
      ]
    }
  ],
  "metadata": {
    "kernelspec": {
      "display_name": "Python 3 (ipykernel)",
      "language": "python",
      "name": "python3"
    },
    "language_info": {
      "codemirror_mode": {
        "name": "ipython",
        "version": 3
      },
      "file_extension": ".py",
      "mimetype": "text/x-python",
      "name": "python",
      "nbconvert_exporter": "python",
      "pygments_lexer": "ipython3",
      "version": "3.9.7"
    },
    "colab": {
      "name": "231453415.ipynb",
      "provenance": [],
      "collapsed_sections": []
    },
    "accelerator": "GPU"
  },
  "nbformat": 4,
  "nbformat_minor": 5
}